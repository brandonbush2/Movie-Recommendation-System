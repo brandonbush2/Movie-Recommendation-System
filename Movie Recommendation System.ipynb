{
 "cells": [
  {
   "cell_type": "markdown",
   "id": "ebe06ca0",
   "metadata": {},
   "source": [
    "# Movie Recommendation System"
   ]
  },
  {
   "cell_type": "markdown",
   "id": "c3c53c30",
   "metadata": {},
   "source": [
    "![movie_catalog](Images/catalog_pics.jpg)"
   ]
  },
  {
   "cell_type": "markdown",
   "id": "a40d6442",
   "metadata": {},
   "source": [
    "## Overview\n",
    "Movie recommendation systems are like friendly guides that help you discover new films you'll love. Imagine a world with thousands of movies to choose from; it can be overwhelming. That's where recommendation systems come in. They use clever math and your past movie preferences to suggest films you might enjoy. These systems make your movie-watching experience more enjoyable by saving you time and introducing you to movies you might have never found on your own."
   ]
  },
  {
   "cell_type": "markdown",
   "id": "02b92f77",
   "metadata": {},
   "source": [
    "## Business Understanding\n",
    "Competition among movie companies in today's digital landscape is more intense than ever before. With a vast array of streaming platforms and content providers vying for viewers' attention, the role of a robust movie recommendation system becomes paramount. Such systems offer a competitive edge by enhancing user engagement and satisfaction. They do this by leveraging sophisticated algorithms to analyze user preferences, viewing history, and ratings, ensuring that viewers are consistently presented with content that aligns with their tastes. \n",
    "\n",
    "This personalization not only keeps viewers engaged but also helps companies differentiate themselves in a crowded market. By recommending content that resonates with individual viewers, companies can increase customer retention, drive user loyalty, and ultimately outperform their competitors. Furthermore, recommendation systems can aid in content discovery, ensuring that lesser-known titles have a chance to shine, thus diversifying a company's content portfolio and attracting a broader audience. "
   ]
  },
  {
   "cell_type": "markdown",
   "id": "85be73b8",
   "metadata": {},
   "source": [
    "### Problem Statement\n",
    "The problem at hand revolves around the development of an effective movie recommendation system that caters to the diverse preferences of users based on their past movie ratings. In the era of digital streaming platforms and an ever-expanding catalog of movies, users are often overwhelmed by choice and may struggle to discover content aligned with their tastes. This leads to reduced user engagement and satisfaction, potentially impacting the success of the movie platform.\n",
    "\n",
    "Have you ever spent a lot of time scrolling through a movie streaming service, unsure of what to watch because there are so many options? This happens because there are thousands of movies available, and it's hard to pick the right one. My project aims to solve this problem. By using data about what movies people have rated highly in the past, we can suggest the top 5 movies that each person is likely to enjoy. This way, users don't have to spend a long time searching, and they can start watching a movie they'll probably love right away.\n",
    "\n",
    "The ultimate goal of this project is to make the experience of choosing and watching movies more enjoyable for users.I want to help people discover new movies they might not have found on their own and keep them engaged with the platform. Additionally, the aim is to benefit the movie platform itself by increasing user satisfaction and retention. When users find movies they love more easily, they're more likely to keep using the service, which can lead to more success for the platform in a competitive market. So, our project isn't just about recommending movies; it's about enhancing the overall movie-watching experience for everyone.\n",
    "\n",
    "The core problem statement is to create a robust recommendation model that can analyze user-provided movie ratings and, leveraging advanced algorithms, generate a list of the top 5 movie recommendations that resonate with each user's unique preferences.\n",
    "\n",
    "\n",
    "#### In summary, my goals include:\n",
    "\n",
    "* **Data Collection:**\n",
    "Gather a dataset containing information on movies, user ratings, and user profiles.\n",
    "\n",
    "* **Data Preprocessing:**\n",
    "Clean and preprocess the dataset to handle missing values, remove duplicates, and format it for analysis.\n",
    "\n",
    "* **User Profiling:** \n",
    "Understand each user's preferences by analyzing their past movie ratings.\n",
    "\n",
    "* **Model Building:**\n",
    "Develop a recommendation model which uses collaborative filtering to generate personalized movie recommendations.\n",
    "\n",
    "* **Evaluation:**\n",
    "Assess the model's performance using appropriate evaluation metrics such as accuracy, RMSE or MAE."
   ]
  },
  {
   "cell_type": "markdown",
   "id": "b9c4dcfe",
   "metadata": {},
   "source": [
    "## Data Understanding\n",
    "For this project, I am provided with two datasets. The first dataset, which I'll refer to as the \"Movie Data\" dataset, contains key information about movies. It comprises three columns: 'movieId,' 'title,' and 'genres.' The 'movieId' column serves as a unique identifier for each movie, ensuring data integrity and facilitating linkage with other datasets. The 'title' column stores the titles of the movies, providing clear identification and labeling for each entry. Meanwhile, the 'genres' column categorizes movies into different genres, offering insights into the content and style of each film.\n",
    "\n",
    "The second dataset, which I'll refer to as the \"User Rating Data\" dataset, captures user interactions with movies, specifically their ratings. It consists of three columns: 'userId,' 'movieId,' and 'rating.' The 'userId' column represents unique user identifiers, enabling the association of each rating with a specific user. The 'movieId' column links each rating to a movie in the Movie Data dataset, facilitating the creation of user-movie relationships. The 'rating' column stores user-assigned ratings, typically on a numerical scale, indicating user preferences for movies. This dataset is instrumental in building collaborative filtering models, as it forms the basis for understanding user behavior and preferences. It allows the system to recommend movies to users based on the ratings and preferences of similar users, enhancing personalization and user satisfaction in the movie recommendation process."
   ]
  },
  {
   "cell_type": "markdown",
   "id": "58063f82",
   "metadata": {},
   "source": [
    "## Data Preparation\n",
    "I first import the relevant packages:"
   ]
  },
  {
   "cell_type": "code",
   "execution_count": 1,
   "id": "52575553",
   "metadata": {},
   "outputs": [],
   "source": [
    "import pandas as pd\n",
    "import numpy as np\n",
    "import matplotlib.pyplot as plt\n",
    "\n",
    "#importing the surprise modules\n",
    "from surprise import Dataset, Reader, SVD\n",
    "from surprise.model_selection import cross_validate\n",
    "from surprise.model_selection import GridSearchCV, train_test_split\n",
    "from surprise.accuracy import rmse\n",
    "\n",
    "#to ignore warnings\n",
    "import warnings\n",
    "warnings.filterwarnings('ignore')\n",
    "\n",
    "#setting style\n",
    "plt.style.use(\"seaborn-v0_8-darkgrid\")\n",
    "\n",
    "#enabling inline plotting\n",
    "%matplotlib inline"
   ]
  },
  {
   "cell_type": "markdown",
   "id": "eaf0d483",
   "metadata": {},
   "source": [
    "Loading the user ratings dataset and previewing the first five columns:"
   ]
  },
  {
   "cell_type": "code",
   "execution_count": 2,
   "id": "40bc23e3",
   "metadata": {},
   "outputs": [
    {
     "data": {
      "text/html": [
       "<div>\n",
       "<style scoped>\n",
       "    .dataframe tbody tr th:only-of-type {\n",
       "        vertical-align: middle;\n",
       "    }\n",
       "\n",
       "    .dataframe tbody tr th {\n",
       "        vertical-align: top;\n",
       "    }\n",
       "\n",
       "    .dataframe thead th {\n",
       "        text-align: right;\n",
       "    }\n",
       "</style>\n",
       "<table border=\"1\" class=\"dataframe\">\n",
       "  <thead>\n",
       "    <tr style=\"text-align: right;\">\n",
       "      <th></th>\n",
       "      <th>userId</th>\n",
       "      <th>movieId</th>\n",
       "      <th>rating</th>\n",
       "      <th>timestamp</th>\n",
       "    </tr>\n",
       "  </thead>\n",
       "  <tbody>\n",
       "    <tr>\n",
       "      <th>0</th>\n",
       "      <td>1</td>\n",
       "      <td>1</td>\n",
       "      <td>4.0</td>\n",
       "      <td>964982703</td>\n",
       "    </tr>\n",
       "    <tr>\n",
       "      <th>1</th>\n",
       "      <td>1</td>\n",
       "      <td>3</td>\n",
       "      <td>4.0</td>\n",
       "      <td>964981247</td>\n",
       "    </tr>\n",
       "    <tr>\n",
       "      <th>2</th>\n",
       "      <td>1</td>\n",
       "      <td>6</td>\n",
       "      <td>4.0</td>\n",
       "      <td>964982224</td>\n",
       "    </tr>\n",
       "    <tr>\n",
       "      <th>3</th>\n",
       "      <td>1</td>\n",
       "      <td>47</td>\n",
       "      <td>5.0</td>\n",
       "      <td>964983815</td>\n",
       "    </tr>\n",
       "    <tr>\n",
       "      <th>4</th>\n",
       "      <td>1</td>\n",
       "      <td>50</td>\n",
       "      <td>5.0</td>\n",
       "      <td>964982931</td>\n",
       "    </tr>\n",
       "  </tbody>\n",
       "</table>\n",
       "</div>"
      ],
      "text/plain": [
       "   userId  movieId  rating  timestamp\n",
       "0       1        1     4.0  964982703\n",
       "1       1        3     4.0  964981247\n",
       "2       1        6     4.0  964982224\n",
       "3       1       47     5.0  964983815\n",
       "4       1       50     5.0  964982931"
      ]
     },
     "execution_count": 2,
     "metadata": {},
     "output_type": "execute_result"
    }
   ],
   "source": [
    "ratings = pd.read_csv('data/ratings.csv')\n",
    "\n",
    "#first five columns\n",
    "ratings.head()"
   ]
  },
  {
   "cell_type": "markdown",
   "id": "6b9fa712",
   "metadata": {},
   "source": [
    "From the columns above, in this project I will not need the `timestamp` column and so I'll drop it. "
   ]
  },
  {
   "cell_type": "code",
   "execution_count": 3,
   "id": "84d644b4",
   "metadata": {},
   "outputs": [
    {
     "data": {
      "text/html": [
       "<div>\n",
       "<style scoped>\n",
       "    .dataframe tbody tr th:only-of-type {\n",
       "        vertical-align: middle;\n",
       "    }\n",
       "\n",
       "    .dataframe tbody tr th {\n",
       "        vertical-align: top;\n",
       "    }\n",
       "\n",
       "    .dataframe thead th {\n",
       "        text-align: right;\n",
       "    }\n",
       "</style>\n",
       "<table border=\"1\" class=\"dataframe\">\n",
       "  <thead>\n",
       "    <tr style=\"text-align: right;\">\n",
       "      <th></th>\n",
       "      <th>userId</th>\n",
       "      <th>movieId</th>\n",
       "      <th>rating</th>\n",
       "    </tr>\n",
       "  </thead>\n",
       "  <tbody>\n",
       "    <tr>\n",
       "      <th>0</th>\n",
       "      <td>1</td>\n",
       "      <td>1</td>\n",
       "      <td>4.0</td>\n",
       "    </tr>\n",
       "    <tr>\n",
       "      <th>1</th>\n",
       "      <td>1</td>\n",
       "      <td>3</td>\n",
       "      <td>4.0</td>\n",
       "    </tr>\n",
       "    <tr>\n",
       "      <th>2</th>\n",
       "      <td>1</td>\n",
       "      <td>6</td>\n",
       "      <td>4.0</td>\n",
       "    </tr>\n",
       "    <tr>\n",
       "      <th>3</th>\n",
       "      <td>1</td>\n",
       "      <td>47</td>\n",
       "      <td>5.0</td>\n",
       "    </tr>\n",
       "    <tr>\n",
       "      <th>4</th>\n",
       "      <td>1</td>\n",
       "      <td>50</td>\n",
       "      <td>5.0</td>\n",
       "    </tr>\n",
       "  </tbody>\n",
       "</table>\n",
       "</div>"
      ],
      "text/plain": [
       "   userId  movieId  rating\n",
       "0       1        1     4.0\n",
       "1       1        3     4.0\n",
       "2       1        6     4.0\n",
       "3       1       47     5.0\n",
       "4       1       50     5.0"
      ]
     },
     "execution_count": 3,
     "metadata": {},
     "output_type": "execute_result"
    }
   ],
   "source": [
    "#dropping the timestamp column and previewing the data again\n",
    "user_rating = ratings.drop('timestamp', axis =1)\n",
    "user_rating.head()"
   ]
  },
  {
   "cell_type": "markdown",
   "id": "28ff3480",
   "metadata": {},
   "source": [
    "A brief information about the columns and number of rows present:"
   ]
  },
  {
   "cell_type": "code",
   "execution_count": 4,
   "id": "c943a397",
   "metadata": {},
   "outputs": [
    {
     "name": "stdout",
     "output_type": "stream",
     "text": [
      "<class 'pandas.core.frame.DataFrame'>\n",
      "RangeIndex: 100836 entries, 0 to 100835\n",
      "Data columns (total 3 columns):\n",
      " #   Column   Non-Null Count   Dtype  \n",
      "---  ------   --------------   -----  \n",
      " 0   userId   100836 non-null  int64  \n",
      " 1   movieId  100836 non-null  int64  \n",
      " 2   rating   100836 non-null  float64\n",
      "dtypes: float64(1), int64(2)\n",
      "memory usage: 2.3 MB\n"
     ]
    }
   ],
   "source": [
    "user_rating.info()"
   ]
  },
  {
   "cell_type": "markdown",
   "id": "1e8f2c78",
   "metadata": {},
   "source": [
    "Loading the movie titles dataset:"
   ]
  },
  {
   "cell_type": "code",
   "execution_count": 5,
   "id": "aa99c593",
   "metadata": {},
   "outputs": [
    {
     "data": {
      "text/html": [
       "<div>\n",
       "<style scoped>\n",
       "    .dataframe tbody tr th:only-of-type {\n",
       "        vertical-align: middle;\n",
       "    }\n",
       "\n",
       "    .dataframe tbody tr th {\n",
       "        vertical-align: top;\n",
       "    }\n",
       "\n",
       "    .dataframe thead th {\n",
       "        text-align: right;\n",
       "    }\n",
       "</style>\n",
       "<table border=\"1\" class=\"dataframe\">\n",
       "  <thead>\n",
       "    <tr style=\"text-align: right;\">\n",
       "      <th></th>\n",
       "      <th>movieId</th>\n",
       "      <th>title</th>\n",
       "      <th>genres</th>\n",
       "    </tr>\n",
       "  </thead>\n",
       "  <tbody>\n",
       "    <tr>\n",
       "      <th>0</th>\n",
       "      <td>1</td>\n",
       "      <td>Toy Story (1995)</td>\n",
       "      <td>Adventure|Animation|Children|Comedy|Fantasy</td>\n",
       "    </tr>\n",
       "    <tr>\n",
       "      <th>1</th>\n",
       "      <td>2</td>\n",
       "      <td>Jumanji (1995)</td>\n",
       "      <td>Adventure|Children|Fantasy</td>\n",
       "    </tr>\n",
       "    <tr>\n",
       "      <th>2</th>\n",
       "      <td>3</td>\n",
       "      <td>Grumpier Old Men (1995)</td>\n",
       "      <td>Comedy|Romance</td>\n",
       "    </tr>\n",
       "    <tr>\n",
       "      <th>3</th>\n",
       "      <td>4</td>\n",
       "      <td>Waiting to Exhale (1995)</td>\n",
       "      <td>Comedy|Drama|Romance</td>\n",
       "    </tr>\n",
       "    <tr>\n",
       "      <th>4</th>\n",
       "      <td>5</td>\n",
       "      <td>Father of the Bride Part II (1995)</td>\n",
       "      <td>Comedy</td>\n",
       "    </tr>\n",
       "  </tbody>\n",
       "</table>\n",
       "</div>"
      ],
      "text/plain": [
       "   movieId                               title  \\\n",
       "0        1                    Toy Story (1995)   \n",
       "1        2                      Jumanji (1995)   \n",
       "2        3             Grumpier Old Men (1995)   \n",
       "3        4            Waiting to Exhale (1995)   \n",
       "4        5  Father of the Bride Part II (1995)   \n",
       "\n",
       "                                        genres  \n",
       "0  Adventure|Animation|Children|Comedy|Fantasy  \n",
       "1                   Adventure|Children|Fantasy  \n",
       "2                               Comedy|Romance  \n",
       "3                         Comedy|Drama|Romance  \n",
       "4                                       Comedy  "
      ]
     },
     "execution_count": 5,
     "metadata": {},
     "output_type": "execute_result"
    }
   ],
   "source": [
    "movie_titles = pd.read_csv('data/movies.csv')\n",
    "movie_titles.head()"
   ]
  },
  {
   "cell_type": "markdown",
   "id": "c93af56f",
   "metadata": {},
   "source": [
    "This dataset contains the movieId and title of each movie based on their Ids. This will be important when making recommendations for unrated movies to a user.\n",
    "\n",
    "Checking the info of this dataset:"
   ]
  },
  {
   "cell_type": "code",
   "execution_count": 6,
   "id": "405b86ff",
   "metadata": {},
   "outputs": [
    {
     "name": "stdout",
     "output_type": "stream",
     "text": [
      "<class 'pandas.core.frame.DataFrame'>\n",
      "RangeIndex: 9742 entries, 0 to 9741\n",
      "Data columns (total 3 columns):\n",
      " #   Column   Non-Null Count  Dtype \n",
      "---  ------   --------------  ----- \n",
      " 0   movieId  9742 non-null   int64 \n",
      " 1   title    9742 non-null   object\n",
      " 2   genres   9742 non-null   object\n",
      "dtypes: int64(1), object(2)\n",
      "memory usage: 228.5+ KB\n"
     ]
    }
   ],
   "source": [
    "#info\n",
    "movie_titles.info()"
   ]
  },
  {
   "cell_type": "markdown",
   "id": "40a7ffd9",
   "metadata": {},
   "source": [
    "### Checking for missing values in both datasets\n",
    "The datasets may contain missing values which may become a problem when trying to build a model."
   ]
  },
  {
   "cell_type": "code",
   "execution_count": 7,
   "id": "57ae9d78",
   "metadata": {},
   "outputs": [
    {
     "data": {
      "text/plain": [
       "userId     0\n",
       "movieId    0\n",
       "rating     0\n",
       "dtype: int64"
      ]
     },
     "execution_count": 7,
     "metadata": {},
     "output_type": "execute_result"
    }
   ],
   "source": [
    "#checking missing values in user ratings data\n",
    "user_rating.isnull().sum()"
   ]
  },
  {
   "cell_type": "markdown",
   "id": "cd07029c",
   "metadata": {},
   "source": [
    "The user ratings dataset does not have missing values. Now I check missing values in the movie title dataset."
   ]
  },
  {
   "cell_type": "code",
   "execution_count": 8,
   "id": "4a2e2c01",
   "metadata": {},
   "outputs": [
    {
     "data": {
      "text/plain": [
       "movieId    0\n",
       "title      0\n",
       "genres     0\n",
       "dtype: int64"
      ]
     },
     "execution_count": 8,
     "metadata": {},
     "output_type": "execute_result"
    }
   ],
   "source": [
    "#missing values in movie title df\n",
    "movie_titles.isnull().sum()"
   ]
  },
  {
   "cell_type": "markdown",
   "id": "950291ab",
   "metadata": {},
   "source": [
    "This dataset as well does not have any missing values.\n",
    "\n",
    "### Checking for duplicates\n",
    "The dataset may as well contain duplicates hence this step is necessary."
   ]
  },
  {
   "cell_type": "code",
   "execution_count": 9,
   "id": "1993d3b2",
   "metadata": {},
   "outputs": [
    {
     "data": {
      "text/plain": [
       "False    100836\n",
       "Name: count, dtype: int64"
      ]
     },
     "execution_count": 9,
     "metadata": {},
     "output_type": "execute_result"
    }
   ],
   "source": [
    "#checking for duplicates in user rating dataframe\n",
    "user_rating.duplicated().value_counts()"
   ]
  },
  {
   "cell_type": "markdown",
   "id": "914cf557",
   "metadata": {},
   "source": [
    "The user ratings columns doesn't have any duplicates. That's good. I now check for duplicates in the movie titles dataframe."
   ]
  },
  {
   "cell_type": "code",
   "execution_count": 10,
   "id": "1fd7ac1d",
   "metadata": {},
   "outputs": [
    {
     "data": {
      "text/plain": [
       "False    9742\n",
       "Name: count, dtype: int64"
      ]
     },
     "execution_count": 10,
     "metadata": {},
     "output_type": "execute_result"
    }
   ],
   "source": [
    "#checking for duplicates\n",
    "movie_titles.duplicated().value_counts()"
   ]
  },
  {
   "cell_type": "markdown",
   "id": "3ab17931",
   "metadata": {},
   "source": [
    "This dataset as well doesn't have any duplicates."
   ]
  },
  {
   "cell_type": "markdown",
   "id": "bf68403c",
   "metadata": {},
   "source": [
    "### Transforming user ratings dataframe to Surprise"
   ]
  },
  {
   "cell_type": "markdown",
   "id": "975ee789",
   "metadata": {},
   "source": [
    "It's now time to transform the dataset into something compatible with `surprise`. In order to do this, I am going to use `Reader` and `Dataset` classes."
   ]
  },
  {
   "cell_type": "code",
   "execution_count": 11,
   "id": "d7ff2fd8",
   "metadata": {},
   "outputs": [],
   "source": [
    "# reading in values as Surprise Dataset\n",
    "reader = Reader()\n",
    "data = Dataset.load_from_df(user_rating[['userId', 'movieId', 'rating']], reader)"
   ]
  },
  {
   "cell_type": "markdown",
   "id": "17a6965e",
   "metadata": {},
   "source": [
    "Looking at how many users and items are in the dataset:"
   ]
  },
  {
   "cell_type": "code",
   "execution_count": 12,
   "id": "06824e40",
   "metadata": {},
   "outputs": [
    {
     "name": "stdout",
     "output_type": "stream",
     "text": [
      "Number of users:  610 \n",
      "\n",
      "Number of items:  9724\n"
     ]
    }
   ],
   "source": [
    "dataset = data.build_full_trainset()\n",
    "print('Number of users: ', dataset.n_users, '\\n')\n",
    "print('Number of items: ', dataset.n_items)"
   ]
  },
  {
   "cell_type": "markdown",
   "id": "b1706c25",
   "metadata": {},
   "source": [
    "Calling the data, we can see that it is indeed a surprise dataset."
   ]
  },
  {
   "cell_type": "code",
   "execution_count": 13,
   "id": "49205271",
   "metadata": {},
   "outputs": [
    {
     "data": {
      "text/plain": [
       "<surprise.dataset.DatasetAutoFolds at 0x11dfbc96c80>"
      ]
     },
     "execution_count": 13,
     "metadata": {},
     "output_type": "execute_result"
    }
   ],
   "source": [
    "data"
   ]
  },
  {
   "cell_type": "markdown",
   "id": "87d35f5b",
   "metadata": {},
   "source": [
    "### User Profiling\n",
    "Before beginning modeling, I added this extra step as one of the goals of this project to sample a random user and preview what movie genres they like. This is the user I will be making 5 recommendations for. I will want to see if the model makes accurate predictions on the movies this user may like based on their genres.\n",
    "\n",
    "#### Sampling a random user"
   ]
  },
  {
   "cell_type": "code",
   "execution_count": 16,
   "id": "f5b76e3d",
   "metadata": {},
   "outputs": [
    {
     "data": {
      "text/html": [
       "<div>\n",
       "<style scoped>\n",
       "    .dataframe tbody tr th:only-of-type {\n",
       "        vertical-align: middle;\n",
       "    }\n",
       "\n",
       "    .dataframe tbody tr th {\n",
       "        vertical-align: top;\n",
       "    }\n",
       "\n",
       "    .dataframe thead th {\n",
       "        text-align: right;\n",
       "    }\n",
       "</style>\n",
       "<table border=\"1\" class=\"dataframe\">\n",
       "  <thead>\n",
       "    <tr style=\"text-align: right;\">\n",
       "      <th></th>\n",
       "      <th>userId</th>\n",
       "      <th>movieId</th>\n",
       "      <th>rating</th>\n",
       "    </tr>\n",
       "  </thead>\n",
       "  <tbody>\n",
       "    <tr>\n",
       "      <th>68102</th>\n",
       "      <td>438</td>\n",
       "      <td>7444</td>\n",
       "      <td>3.0</td>\n",
       "    </tr>\n",
       "  </tbody>\n",
       "</table>\n",
       "</div>"
      ],
      "text/plain": [
       "       userId  movieId  rating\n",
       "68102     438     7444     3.0"
      ]
     },
     "execution_count": 16,
     "metadata": {},
     "output_type": "execute_result"
    }
   ],
   "source": [
    "#setting random seed for reproducibility\n",
    "np.random.seed(54)\n",
    "user_rating.sample(1)"
   ]
  },
  {
   "cell_type": "code",
   "execution_count": 17,
   "id": "c5a183be",
   "metadata": {},
   "outputs": [],
   "source": [
    "#storing this user id\n",
    "user = 438"
   ]
  },
  {
   "cell_type": "markdown",
   "id": "1344b554",
   "metadata": {},
   "source": [
    "#### Identifying the highly rated movies based on genre\n",
    "To do this, I will join the movie title dataframe on the user ratings dataset specifically for `user 438` focussing mostly on the genre."
   ]
  },
  {
   "cell_type": "code",
   "execution_count": 19,
   "id": "6060e5d7",
   "metadata": {},
   "outputs": [
    {
     "data": {
      "text/html": [
       "<div>\n",
       "<style scoped>\n",
       "    .dataframe tbody tr th:only-of-type {\n",
       "        vertical-align: middle;\n",
       "    }\n",
       "\n",
       "    .dataframe tbody tr th {\n",
       "        vertical-align: top;\n",
       "    }\n",
       "\n",
       "    .dataframe thead th {\n",
       "        text-align: right;\n",
       "    }\n",
       "</style>\n",
       "<table border=\"1\" class=\"dataframe\">\n",
       "  <thead>\n",
       "    <tr style=\"text-align: right;\">\n",
       "      <th></th>\n",
       "      <th>userId</th>\n",
       "      <th>movieId</th>\n",
       "      <th>rating</th>\n",
       "    </tr>\n",
       "  </thead>\n",
       "  <tbody>\n",
       "    <tr>\n",
       "      <th>67583</th>\n",
       "      <td>438</td>\n",
       "      <td>1</td>\n",
       "      <td>4.5</td>\n",
       "    </tr>\n",
       "    <tr>\n",
       "      <th>67584</th>\n",
       "      <td>438</td>\n",
       "      <td>6</td>\n",
       "      <td>5.0</td>\n",
       "    </tr>\n",
       "    <tr>\n",
       "      <th>67585</th>\n",
       "      <td>438</td>\n",
       "      <td>10</td>\n",
       "      <td>4.0</td>\n",
       "    </tr>\n",
       "    <tr>\n",
       "      <th>67586</th>\n",
       "      <td>438</td>\n",
       "      <td>11</td>\n",
       "      <td>4.0</td>\n",
       "    </tr>\n",
       "    <tr>\n",
       "      <th>67587</th>\n",
       "      <td>438</td>\n",
       "      <td>19</td>\n",
       "      <td>3.0</td>\n",
       "    </tr>\n",
       "    <tr>\n",
       "      <th>...</th>\n",
       "      <td>...</td>\n",
       "      <td>...</td>\n",
       "      <td>...</td>\n",
       "    </tr>\n",
       "    <tr>\n",
       "      <th>68213</th>\n",
       "      <td>438</td>\n",
       "      <td>48516</td>\n",
       "      <td>4.5</td>\n",
       "    </tr>\n",
       "    <tr>\n",
       "      <th>68214</th>\n",
       "      <td>438</td>\n",
       "      <td>48774</td>\n",
       "      <td>3.0</td>\n",
       "    </tr>\n",
       "    <tr>\n",
       "      <th>68215</th>\n",
       "      <td>438</td>\n",
       "      <td>48780</td>\n",
       "      <td>4.0</td>\n",
       "    </tr>\n",
       "    <tr>\n",
       "      <th>68216</th>\n",
       "      <td>438</td>\n",
       "      <td>49272</td>\n",
       "      <td>4.0</td>\n",
       "    </tr>\n",
       "    <tr>\n",
       "      <th>68217</th>\n",
       "      <td>438</td>\n",
       "      <td>51662</td>\n",
       "      <td>5.0</td>\n",
       "    </tr>\n",
       "  </tbody>\n",
       "</table>\n",
       "<p>635 rows × 3 columns</p>\n",
       "</div>"
      ],
      "text/plain": [
       "       userId  movieId  rating\n",
       "67583     438        1     4.5\n",
       "67584     438        6     5.0\n",
       "67585     438       10     4.0\n",
       "67586     438       11     4.0\n",
       "67587     438       19     3.0\n",
       "...       ...      ...     ...\n",
       "68213     438    48516     4.5\n",
       "68214     438    48774     3.0\n",
       "68215     438    48780     4.0\n",
       "68216     438    49272     4.0\n",
       "68217     438    51662     5.0\n",
       "\n",
       "[635 rows x 3 columns]"
      ]
     },
     "execution_count": 19,
     "metadata": {},
     "output_type": "execute_result"
    }
   ],
   "source": [
    "#creating dataframe or user 438 only\n",
    "user438 = user_rating.loc[user_rating['userId'] == user]\n",
    "user438"
   ]
  },
  {
   "cell_type": "markdown",
   "id": "3552d32a",
   "metadata": {},
   "source": [
    "This user has rated 635 movie titles. Now let me do the join."
   ]
  },
  {
   "cell_type": "code",
   "execution_count": 39,
   "id": "8c2dbcca",
   "metadata": {},
   "outputs": [
    {
     "data": {
      "text/html": [
       "<div>\n",
       "<style scoped>\n",
       "    .dataframe tbody tr th:only-of-type {\n",
       "        vertical-align: middle;\n",
       "    }\n",
       "\n",
       "    .dataframe tbody tr th {\n",
       "        vertical-align: top;\n",
       "    }\n",
       "\n",
       "    .dataframe thead th {\n",
       "        text-align: right;\n",
       "    }\n",
       "</style>\n",
       "<table border=\"1\" class=\"dataframe\">\n",
       "  <thead>\n",
       "    <tr style=\"text-align: right;\">\n",
       "      <th></th>\n",
       "      <th>userId</th>\n",
       "      <th>movieId</th>\n",
       "      <th>rating</th>\n",
       "      <th>title</th>\n",
       "      <th>genres</th>\n",
       "    </tr>\n",
       "  </thead>\n",
       "  <tbody>\n",
       "    <tr>\n",
       "      <th>0</th>\n",
       "      <td>438</td>\n",
       "      <td>1</td>\n",
       "      <td>4.5</td>\n",
       "      <td>Toy Story (1995)</td>\n",
       "      <td>Adventure|Animation|Children|Comedy|Fantasy</td>\n",
       "    </tr>\n",
       "    <tr>\n",
       "      <th>1</th>\n",
       "      <td>438</td>\n",
       "      <td>6</td>\n",
       "      <td>5.0</td>\n",
       "      <td>Heat (1995)</td>\n",
       "      <td>Action|Crime|Thriller</td>\n",
       "    </tr>\n",
       "    <tr>\n",
       "      <th>2</th>\n",
       "      <td>438</td>\n",
       "      <td>10</td>\n",
       "      <td>4.0</td>\n",
       "      <td>GoldenEye (1995)</td>\n",
       "      <td>Action|Adventure|Thriller</td>\n",
       "    </tr>\n",
       "    <tr>\n",
       "      <th>3</th>\n",
       "      <td>438</td>\n",
       "      <td>11</td>\n",
       "      <td>4.0</td>\n",
       "      <td>American President, The (1995)</td>\n",
       "      <td>Comedy|Drama|Romance</td>\n",
       "    </tr>\n",
       "    <tr>\n",
       "      <th>4</th>\n",
       "      <td>438</td>\n",
       "      <td>19</td>\n",
       "      <td>3.0</td>\n",
       "      <td>Ace Ventura: When Nature Calls (1995)</td>\n",
       "      <td>Comedy</td>\n",
       "    </tr>\n",
       "    <tr>\n",
       "      <th>...</th>\n",
       "      <td>...</td>\n",
       "      <td>...</td>\n",
       "      <td>...</td>\n",
       "      <td>...</td>\n",
       "      <td>...</td>\n",
       "    </tr>\n",
       "    <tr>\n",
       "      <th>630</th>\n",
       "      <td>438</td>\n",
       "      <td>48516</td>\n",
       "      <td>4.5</td>\n",
       "      <td>Departed, The (2006)</td>\n",
       "      <td>Crime|Drama|Thriller</td>\n",
       "    </tr>\n",
       "    <tr>\n",
       "      <th>631</th>\n",
       "      <td>438</td>\n",
       "      <td>48774</td>\n",
       "      <td>3.0</td>\n",
       "      <td>Children of Men (2006)</td>\n",
       "      <td>Action|Adventure|Drama|Sci-Fi|Thriller</td>\n",
       "    </tr>\n",
       "    <tr>\n",
       "      <th>632</th>\n",
       "      <td>438</td>\n",
       "      <td>48780</td>\n",
       "      <td>4.0</td>\n",
       "      <td>Prestige, The (2006)</td>\n",
       "      <td>Drama|Mystery|Sci-Fi|Thriller</td>\n",
       "    </tr>\n",
       "    <tr>\n",
       "      <th>633</th>\n",
       "      <td>438</td>\n",
       "      <td>49272</td>\n",
       "      <td>4.0</td>\n",
       "      <td>Casino Royale (2006)</td>\n",
       "      <td>Action|Adventure|Thriller</td>\n",
       "    </tr>\n",
       "    <tr>\n",
       "      <th>634</th>\n",
       "      <td>438</td>\n",
       "      <td>51662</td>\n",
       "      <td>5.0</td>\n",
       "      <td>300 (2007)</td>\n",
       "      <td>Action|Fantasy|War|IMAX</td>\n",
       "    </tr>\n",
       "  </tbody>\n",
       "</table>\n",
       "<p>635 rows × 5 columns</p>\n",
       "</div>"
      ],
      "text/plain": [
       "     userId  movieId  rating                                  title  \\\n",
       "0       438        1     4.5                       Toy Story (1995)   \n",
       "1       438        6     5.0                            Heat (1995)   \n",
       "2       438       10     4.0                       GoldenEye (1995)   \n",
       "3       438       11     4.0         American President, The (1995)   \n",
       "4       438       19     3.0  Ace Ventura: When Nature Calls (1995)   \n",
       "..      ...      ...     ...                                    ...   \n",
       "630     438    48516     4.5                   Departed, The (2006)   \n",
       "631     438    48774     3.0                 Children of Men (2006)   \n",
       "632     438    48780     4.0                   Prestige, The (2006)   \n",
       "633     438    49272     4.0                   Casino Royale (2006)   \n",
       "634     438    51662     5.0                             300 (2007)   \n",
       "\n",
       "                                          genres  \n",
       "0    Adventure|Animation|Children|Comedy|Fantasy  \n",
       "1                          Action|Crime|Thriller  \n",
       "2                      Action|Adventure|Thriller  \n",
       "3                           Comedy|Drama|Romance  \n",
       "4                                         Comedy  \n",
       "..                                           ...  \n",
       "630                         Crime|Drama|Thriller  \n",
       "631       Action|Adventure|Drama|Sci-Fi|Thriller  \n",
       "632                Drama|Mystery|Sci-Fi|Thriller  \n",
       "633                    Action|Adventure|Thriller  \n",
       "634                      Action|Fantasy|War|IMAX  \n",
       "\n",
       "[635 rows x 5 columns]"
      ]
     },
     "execution_count": 39,
     "metadata": {},
     "output_type": "execute_result"
    }
   ],
   "source": [
    "# Merge user438s with movie titles\n",
    "user438_movie_ratings = pd.merge(user438, movie_titles, on='movieId')\n",
    "user438_movie_ratings"
   ]
  },
  {
   "cell_type": "markdown",
   "id": "68ea633f",
   "metadata": {},
   "source": [
    "#### Plotting highly rated genres for user 438"
   ]
  },
  {
   "cell_type": "code",
   "execution_count": 42,
   "id": "7f1111eb",
   "metadata": {},
   "outputs": [
    {
     "data": {
      "text/html": [
       "<div>\n",
       "<style scoped>\n",
       "    .dataframe tbody tr th:only-of-type {\n",
       "        vertical-align: middle;\n",
       "    }\n",
       "\n",
       "    .dataframe tbody tr th {\n",
       "        vertical-align: top;\n",
       "    }\n",
       "\n",
       "    .dataframe thead th {\n",
       "        text-align: right;\n",
       "    }\n",
       "</style>\n",
       "<table border=\"1\" class=\"dataframe\">\n",
       "  <thead>\n",
       "    <tr style=\"text-align: right;\">\n",
       "      <th></th>\n",
       "      <th>userId</th>\n",
       "      <th>movieId</th>\n",
       "      <th>rating</th>\n",
       "      <th>title</th>\n",
       "      <th>genres</th>\n",
       "    </tr>\n",
       "  </thead>\n",
       "  <tbody>\n",
       "    <tr>\n",
       "      <th>634</th>\n",
       "      <td>438</td>\n",
       "      <td>51662</td>\n",
       "      <td>5.0</td>\n",
       "      <td>300 (2007)</td>\n",
       "      <td>Action|Fantasy|War|IMAX</td>\n",
       "    </tr>\n",
       "    <tr>\n",
       "      <th>493</th>\n",
       "      <td>438</td>\n",
       "      <td>7090</td>\n",
       "      <td>5.0</td>\n",
       "      <td>Hero (Ying xiong) (2002)</td>\n",
       "      <td>Action|Adventure|Drama</td>\n",
       "    </tr>\n",
       "    <tr>\n",
       "      <th>462</th>\n",
       "      <td>438</td>\n",
       "      <td>6539</td>\n",
       "      <td>5.0</td>\n",
       "      <td>Pirates of the Caribbean: The Curse of the Bla...</td>\n",
       "      <td>Action|Adventure|Comedy|Fantasy</td>\n",
       "    </tr>\n",
       "  </tbody>\n",
       "</table>\n",
       "</div>"
      ],
      "text/plain": [
       "     userId  movieId  rating  \\\n",
       "634     438    51662     5.0   \n",
       "493     438     7090     5.0   \n",
       "462     438     6539     5.0   \n",
       "\n",
       "                                                 title  \\\n",
       "634                                         300 (2007)   \n",
       "493                           Hero (Ying xiong) (2002)   \n",
       "462  Pirates of the Caribbean: The Curse of the Bla...   \n",
       "\n",
       "                              genres  \n",
       "634          Action|Fantasy|War|IMAX  \n",
       "493           Action|Adventure|Drama  \n",
       "462  Action|Adventure|Comedy|Fantasy  "
      ]
     },
     "execution_count": 42,
     "metadata": {},
     "output_type": "execute_result"
    }
   ],
   "source": [
    "#user438 three highest rated genres \n",
    "user438_ratings = user438_movie_ratings.sort_values(by = 'rating', ascending = False).head(3)\n",
    "user438_ratings"
   ]
  },
  {
   "cell_type": "code",
   "execution_count": 53,
   "id": "aa61fda2",
   "metadata": {},
   "outputs": [
    {
     "data": {
      "image/png": "[encoded data removed]",
      "text/plain": [
       "<Figure size 1000x500 with 1 Axes>"
      ]
     },
     "metadata": {},
     "output_type": "display_data"
    }
   ],
   "source": [
    "#plotting bar plot\n",
    "plt.figure(figsize = (10,5))\n",
    "plt.bar(user438_ratings['genres'], user438_ratings['rating'], color = 'grey');"
   ]
  },
  {
   "cell_type": "markdown",
   "id": "1c03c6e5",
   "metadata": {},
   "source": [
    "From the plot above, these are the highly rated genres for `user 438`."
   ]
  },
  {
   "cell_type": "markdown",
   "id": "cc664ced",
   "metadata": {},
   "source": [
    "## Modeling"
   ]
  },
  {
   "cell_type": "code",
   "execution_count": null,
   "id": "0bf4430f",
   "metadata": {},
   "outputs": [],
   "source": []
  }
 ],
 "metadata": {
  "kernelspec": {
   "display_name": "Python (learn-env)",
   "language": "python",
   "name": "learn-env"
  },
  "language_info": {
   "codemirror_mode": {
    "name": "ipython",
    "version": 3
   },
   "file_extension": ".py",
   "mimetype": "text/x-python",
   "name": "python",
   "nbconvert_exporter": "python",
   "pygments_lexer": "ipython3",
   "version": "3.10.11"
  },
  "toc": {
   "base_numbering": 1,
   "nav_menu": {},
   "number_sections": true,
   "sideBar": true,
   "skip_h1_title": false,
   "title_cell": "Table of Contents",
   "title_sidebar": "Contents",
   "toc_cell": false,
   "toc_position": {},
   "toc_section_display": true,
   "toc_window_display": false
  }
 },
 "nbformat": 4,
 "nbformat_minor": 5
}

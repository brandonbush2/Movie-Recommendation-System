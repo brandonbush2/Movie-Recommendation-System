{
 "cells": [
  {
   "cell_type": "markdown",
   "id": "ebe06ca0",
   "metadata": {},
   "source": [
    "# Movie Recommendation System"
   ]
  },
  {
   "cell_type": "markdown",
   "id": "c3c53c30",
   "metadata": {},
   "source": [
    "![movie_catalog](Images/catalog_pics.jpg)"
   ]
  },
  {
   "cell_type": "markdown",
   "id": "a40d6442",
   "metadata": {},
   "source": [
    "## Overview\n",
    "Movie recommendation systems are like friendly guides that help you discover new films you'll love. Imagine a world with thousands of movies to choose from; it can be overwhelming. That's where recommendation systems come in. They use clever math and your past movie preferences to suggest films you might enjoy. These systems make your movie-watching experience more enjoyable by saving you time and introducing you to movies you might have never found on your own."
   ]
  },
  {
   "cell_type": "markdown",
   "id": "02b92f77",
   "metadata": {},
   "source": [
    "## Business Understanding\n",
    "Competition among movie companies in today's digital landscape is more intense than ever before. With a vast array of streaming platforms and content providers vying for viewers' attention, the role of a robust movie recommendation system becomes paramount. Such systems offer a competitive edge by enhancing user engagement and satisfaction. They do this by leveraging sophisticated algorithms to analyze user preferences, viewing history, and ratings, ensuring that viewers are consistently presented with content that aligns with their tastes. \n",
    "\n",
    "This personalization not only keeps viewers engaged but also helps companies differentiate themselves in a crowded market. By recommending content that resonates with individual viewers, companies can increase customer retention, drive user loyalty, and ultimately outperform their competitors. Furthermore, recommendation systems can aid in content discovery, ensuring that lesser-known titles have a chance to shine, thus diversifying a company's content portfolio and attracting a broader audience. "
   ]
  },
  {
   "cell_type": "markdown",
   "id": "85be73b8",
   "metadata": {},
   "source": [
    "### Problem Statement\n",
    "The problem at hand revolves around the development of an effective movie recommendation system that caters to the diverse preferences of users based on their past movie ratings. In the era of digital streaming platforms and an ever-expanding catalog of movies, users are often overwhelmed by choice and may struggle to discover content aligned with their tastes. This leads to reduced user engagement and satisfaction, potentially impacting the success of the movie platform.\n",
    "\n",
    "Have you ever spent a lot of time scrolling through a movie streaming service, unsure of what to watch because there are so many options? This happens because there are thousands of movies available, and it's hard to pick the right one. My project aims to solve this problem. By using data about what movies people have rated highly in the past, we can suggest the top 5 movies that each person is likely to enjoy. This way, users don't have to spend a long time searching, and they can start watching a movie they'll probably love right away.\n",
    "\n",
    "The ultimate goal of this project is to make the experience of choosing and watching movies more enjoyable for users.I want to help people discover new movies they might not have found on their own and keep them engaged with the platform. Additionally, the aim is to benefit the movie platform itself by increasing user satisfaction and retention. When users find movies they love more easily, they're more likely to keep using the service, which can lead to more success for the platform in a competitive market. So, our project isn't just about recommending movies; it's about enhancing the overall movie-watching experience for everyone.\n",
    "\n",
    "The core problem statement is to create a robust recommendation model that can analyze user-provided movie ratings and, leveraging advanced algorithms, generate a list of the top 5 movie recommendations that resonate with each user's unique preferences.\n",
    "\n",
    "\n",
    "#### In summary, my goals include:\n",
    "\n",
    "* **Data Collection:**\n",
    "Gather a dataset containing information on movies, user ratings, and user profiles.\n",
    "\n",
    "* **Data Preprocessing:**\n",
    "Clean and preprocess the dataset to handle missing values, remove duplicates, and format it for analysis.\n",
    "\n",
    "* **User Profiling:** \n",
    "Understand each user's preferences by analyzing their past movie ratings.\n",
    "\n",
    "* **Model Building:**\n",
    "Develop a recommendation model which uses collaborative filtering to generate personalized movie recommendations.\n",
    "\n",
    "* **Evaluation:**\n",
    "Assess the model's performance using appropriate evaluation metrics such as accuracy, RMSE or MAE."
   ]
  },
  {
   "cell_type": "markdown",
   "id": "b9c4dcfe",
   "metadata": {},
   "source": [
    "## Data Understanding\n",
    "For this project, I am provided with two datasets. The first dataset, which I'll refer to as the \"Movie Data\" dataset, contains key information about movies. It comprises three columns: 'movieId,' 'title,' and 'genres.' The 'movieId' column serves as a unique identifier for each movie, ensuring data integrity and facilitating linkage with other datasets. The 'title' column stores the titles of the movies, providing clear identification and labeling for each entry. Meanwhile, the 'genres' column categorizes movies into different genres, offering insights into the content and style of each film.\n",
    "\n",
    "The second dataset, which I'll refer to as the \"User Rating Data\" dataset, captures user interactions with movies, specifically their ratings. It consists of three columns: 'userId,' 'movieId,' and 'rating.' The 'userId' column represents unique user identifiers, enabling the association of each rating with a specific user. The 'movieId' column links each rating to a movie in the Movie Data dataset, facilitating the creation of user-movie relationships. The 'rating' column stores user-assigned ratings, typically on a numerical scale, indicating user preferences for movies. This dataset is instrumental in building collaborative filtering models, as it forms the basis for understanding user behavior and preferences. It allows the system to recommend movies to users based on the ratings and preferences of similar users, enhancing personalization and user satisfaction in the movie recommendation process."
   ]
  },
  {
   "cell_type": "markdown",
   "id": "58063f82",
   "metadata": {},
   "source": [
    "## Data Preparation\n",
    "I first import the relevant packages:"
   ]
  },
  {
   "cell_type": "code",
   "execution_count": 69,
   "id": "52575553",
   "metadata": {},
   "outputs": [],
   "source": [
    "import pandas as pd\n",
    "import numpy as np\n",
    "import matplotlib.pyplot as plt\n",
    "\n",
    "#importing the surprise modules\n",
    "from surprise import Dataset, Reader, SVD\n",
    "from surprise.model_selection import cross_validate\n",
    "from surprise.model_selection import GridSearchCV, train_test_split\n",
    "from surprise.accuracy import rmse\n",
    "\n",
    "#to ignore warnings\n",
    "import warnings\n",
    "warnings.filterwarnings('ignore')\n",
    "\n",
    "#setting style\n",
    "plt.style.use(\"seaborn-v0_8-darkgrid\")\n",
    "\n",
    "#enabling inline plotting\n",
    "%matplotlib inline"
   ]
  },
  {
   "cell_type": "markdown",
   "id": "eaf0d483",
   "metadata": {},
   "source": [
    "Loading the user ratings dataset and previewing the first five columns:"
   ]
  },
  {
   "cell_type": "code",
   "execution_count": 70,
   "id": "40bc23e3",
   "metadata": {},
   "outputs": [
    {
     "data": {
      "text/html": [
       "<div>\n",
       "<style scoped>\n",
       "    .dataframe tbody tr th:only-of-type {\n",
       "        vertical-align: middle;\n",
       "    }\n",
       "\n",
       "    .dataframe tbody tr th {\n",
       "        vertical-align: top;\n",
       "    }\n",
       "\n",
       "    .dataframe thead th {\n",
       "        text-align: right;\n",
       "    }\n",
       "</style>\n",
       "<table border=\"1\" class=\"dataframe\">\n",
       "  <thead>\n",
       "    <tr style=\"text-align: right;\">\n",
       "      <th></th>\n",
       "      <th>userId</th>\n",
       "      <th>movieId</th>\n",
       "      <th>rating</th>\n",
       "      <th>timestamp</th>\n",
       "    </tr>\n",
       "  </thead>\n",
       "  <tbody>\n",
       "    <tr>\n",
       "      <th>0</th>\n",
       "      <td>1</td>\n",
       "      <td>1</td>\n",
       "      <td>4.0</td>\n",
       "      <td>964982703</td>\n",
       "    </tr>\n",
       "    <tr>\n",
       "      <th>1</th>\n",
       "      <td>1</td>\n",
       "      <td>3</td>\n",
       "      <td>4.0</td>\n",
       "      <td>964981247</td>\n",
       "    </tr>\n",
       "    <tr>\n",
       "      <th>2</th>\n",
       "      <td>1</td>\n",
       "      <td>6</td>\n",
       "      <td>4.0</td>\n",
       "      <td>964982224</td>\n",
       "    </tr>\n",
       "    <tr>\n",
       "      <th>3</th>\n",
       "      <td>1</td>\n",
       "      <td>47</td>\n",
       "      <td>5.0</td>\n",
       "      <td>964983815</td>\n",
       "    </tr>\n",
       "    <tr>\n",
       "      <th>4</th>\n",
       "      <td>1</td>\n",
       "      <td>50</td>\n",
       "      <td>5.0</td>\n",
       "      <td>964982931</td>\n",
       "    </tr>\n",
       "  </tbody>\n",
       "</table>\n",
       "</div>"
      ],
      "text/plain": [
       "   userId  movieId  rating  timestamp\n",
       "0       1        1     4.0  964982703\n",
       "1       1        3     4.0  964981247\n",
       "2       1        6     4.0  964982224\n",
       "3       1       47     5.0  964983815\n",
       "4       1       50     5.0  964982931"
      ]
     },
     "execution_count": 70,
     "metadata": {},
     "output_type": "execute_result"
    }
   ],
   "source": [
    "ratings = pd.read_csv('data/ratings.csv')\n",
    "\n",
    "#first five columns\n",
    "ratings.head()"
   ]
  },
  {
   "cell_type": "markdown",
   "id": "6b9fa712",
   "metadata": {},
   "source": [
    "From the columns above, in this project I will not need the `timestamp` column and so I'll drop it. "
   ]
  },
  {
   "cell_type": "code",
   "execution_count": 71,
   "id": "84d644b4",
   "metadata": {},
   "outputs": [
    {
     "data": {
      "text/html": [
       "<div>\n",
       "<style scoped>\n",
       "    .dataframe tbody tr th:only-of-type {\n",
       "        vertical-align: middle;\n",
       "    }\n",
       "\n",
       "    .dataframe tbody tr th {\n",
       "        vertical-align: top;\n",
       "    }\n",
       "\n",
       "    .dataframe thead th {\n",
       "        text-align: right;\n",
       "    }\n",
       "</style>\n",
       "<table border=\"1\" class=\"dataframe\">\n",
       "  <thead>\n",
       "    <tr style=\"text-align: right;\">\n",
       "      <th></th>\n",
       "      <th>userId</th>\n",
       "      <th>movieId</th>\n",
       "      <th>rating</th>\n",
       "    </tr>\n",
       "  </thead>\n",
       "  <tbody>\n",
       "    <tr>\n",
       "      <th>0</th>\n",
       "      <td>1</td>\n",
       "      <td>1</td>\n",
       "      <td>4.0</td>\n",
       "    </tr>\n",
       "    <tr>\n",
       "      <th>1</th>\n",
       "      <td>1</td>\n",
       "      <td>3</td>\n",
       "      <td>4.0</td>\n",
       "    </tr>\n",
       "    <tr>\n",
       "      <th>2</th>\n",
       "      <td>1</td>\n",
       "      <td>6</td>\n",
       "      <td>4.0</td>\n",
       "    </tr>\n",
       "    <tr>\n",
       "      <th>3</th>\n",
       "      <td>1</td>\n",
       "      <td>47</td>\n",
       "      <td>5.0</td>\n",
       "    </tr>\n",
       "    <tr>\n",
       "      <th>4</th>\n",
       "      <td>1</td>\n",
       "      <td>50</td>\n",
       "      <td>5.0</td>\n",
       "    </tr>\n",
       "  </tbody>\n",
       "</table>\n",
       "</div>"
      ],
      "text/plain": [
       "   userId  movieId  rating\n",
       "0       1        1     4.0\n",
       "1       1        3     4.0\n",
       "2       1        6     4.0\n",
       "3       1       47     5.0\n",
       "4       1       50     5.0"
      ]
     },
     "execution_count": 71,
     "metadata": {},
     "output_type": "execute_result"
    }
   ],
   "source": [
    "#dropping the timestamp column and previewing the data again\n",
    "user_rating = ratings.drop('timestamp', axis =1)\n",
    "user_rating.head()"
   ]
  },
  {
   "cell_type": "markdown",
   "id": "28ff3480",
   "metadata": {},
   "source": [
    "A brief information about the columns and number of rows present:"
   ]
  },
  {
   "cell_type": "code",
   "execution_count": 72,
   "id": "c943a397",
   "metadata": {},
   "outputs": [
    {
     "name": "stdout",
     "output_type": "stream",
     "text": [
      "<class 'pandas.core.frame.DataFrame'>\n",
      "RangeIndex: 100836 entries, 0 to 100835\n",
      "Data columns (total 3 columns):\n",
      " #   Column   Non-Null Count   Dtype  \n",
      "---  ------   --------------   -----  \n",
      " 0   userId   100836 non-null  int64  \n",
      " 1   movieId  100836 non-null  int64  \n",
      " 2   rating   100836 non-null  float64\n",
      "dtypes: float64(1), int64(2)\n",
      "memory usage: 2.3 MB\n"
     ]
    }
   ],
   "source": [
    "user_rating.info()"
   ]
  },
  {
   "cell_type": "markdown",
   "id": "1e8f2c78",
   "metadata": {},
   "source": [
    "Loading the movie titles dataset:"
   ]
  },
  {
   "cell_type": "code",
   "execution_count": 73,
   "id": "aa99c593",
   "metadata": {},
   "outputs": [
    {
     "data": {
      "text/html": [
       "<div>\n",
       "<style scoped>\n",
       "    .dataframe tbody tr th:only-of-type {\n",
       "        vertical-align: middle;\n",
       "    }\n",
       "\n",
       "    .dataframe tbody tr th {\n",
       "        vertical-align: top;\n",
       "    }\n",
       "\n",
       "    .dataframe thead th {\n",
       "        text-align: right;\n",
       "    }\n",
       "</style>\n",
       "<table border=\"1\" class=\"dataframe\">\n",
       "  <thead>\n",
       "    <tr style=\"text-align: right;\">\n",
       "      <th></th>\n",
       "      <th>movieId</th>\n",
       "      <th>title</th>\n",
       "      <th>genres</th>\n",
       "    </tr>\n",
       "  </thead>\n",
       "  <tbody>\n",
       "    <tr>\n",
       "      <th>0</th>\n",
       "      <td>1</td>\n",
       "      <td>Toy Story (1995)</td>\n",
       "      <td>Adventure|Animation|Children|Comedy|Fantasy</td>\n",
       "    </tr>\n",
       "    <tr>\n",
       "      <th>1</th>\n",
       "      <td>2</td>\n",
       "      <td>Jumanji (1995)</td>\n",
       "      <td>Adventure|Children|Fantasy</td>\n",
       "    </tr>\n",
       "    <tr>\n",
       "      <th>2</th>\n",
       "      <td>3</td>\n",
       "      <td>Grumpier Old Men (1995)</td>\n",
       "      <td>Comedy|Romance</td>\n",
       "    </tr>\n",
       "    <tr>\n",
       "      <th>3</th>\n",
       "      <td>4</td>\n",
       "      <td>Waiting to Exhale (1995)</td>\n",
       "      <td>Comedy|Drama|Romance</td>\n",
       "    </tr>\n",
       "    <tr>\n",
       "      <th>4</th>\n",
       "      <td>5</td>\n",
       "      <td>Father of the Bride Part II (1995)</td>\n",
       "      <td>Comedy</td>\n",
       "    </tr>\n",
       "  </tbody>\n",
       "</table>\n",
       "</div>"
      ],
      "text/plain": [
       "   movieId                               title  \\\n",
       "0        1                    Toy Story (1995)   \n",
       "1        2                      Jumanji (1995)   \n",
       "2        3             Grumpier Old Men (1995)   \n",
       "3        4            Waiting to Exhale (1995)   \n",
       "4        5  Father of the Bride Part II (1995)   \n",
       "\n",
       "                                        genres  \n",
       "0  Adventure|Animation|Children|Comedy|Fantasy  \n",
       "1                   Adventure|Children|Fantasy  \n",
       "2                               Comedy|Romance  \n",
       "3                         Comedy|Drama|Romance  \n",
       "4                                       Comedy  "
      ]
     },
     "execution_count": 73,
     "metadata": {},
     "output_type": "execute_result"
    }
   ],
   "source": [
    "movie_titles = pd.read_csv('data/movies.csv')\n",
    "movie_titles.head()"
   ]
  },
  {
   "cell_type": "markdown",
   "id": "c93af56f",
   "metadata": {},
   "source": [
    "This dataset contains the movieId and title of each movie based on their Ids. This will be important when making recommendations for unrated movies to a user.\n",
    "\n",
    "Checking the info of this dataset:"
   ]
  },
  {
   "cell_type": "code",
   "execution_count": 74,
   "id": "405b86ff",
   "metadata": {},
   "outputs": [
    {
     "name": "stdout",
     "output_type": "stream",
     "text": [
      "<class 'pandas.core.frame.DataFrame'>\n",
      "RangeIndex: 9742 entries, 0 to 9741\n",
      "Data columns (total 3 columns):\n",
      " #   Column   Non-Null Count  Dtype \n",
      "---  ------   --------------  ----- \n",
      " 0   movieId  9742 non-null   int64 \n",
      " 1   title    9742 non-null   object\n",
      " 2   genres   9742 non-null   object\n",
      "dtypes: int64(1), object(2)\n",
      "memory usage: 228.5+ KB\n"
     ]
    }
   ],
   "source": [
    "#info\n",
    "movie_titles.info()"
   ]
  },
  {
   "cell_type": "markdown",
   "id": "40a7ffd9",
   "metadata": {},
   "source": [
    "### Checking for missing values in both datasets\n",
    "The datasets may contain missing values which may become a problem when trying to build a model."
   ]
  },
  {
   "cell_type": "code",
   "execution_count": 75,
   "id": "57ae9d78",
   "metadata": {},
   "outputs": [
    {
     "data": {
      "text/plain": [
       "userId     0\n",
       "movieId    0\n",
       "rating     0\n",
       "dtype: int64"
      ]
     },
     "execution_count": 75,
     "metadata": {},
     "output_type": "execute_result"
    }
   ],
   "source": [
    "#checking missing values in user ratings data\n",
    "user_rating.isnull().sum()"
   ]
  },
  {
   "cell_type": "markdown",
   "id": "cd07029c",
   "metadata": {},
   "source": [
    "The user ratings dataset does not have missing values. Now I check missing values in the movie title dataset."
   ]
  },
  {
   "cell_type": "code",
   "execution_count": 76,
   "id": "4a2e2c01",
   "metadata": {},
   "outputs": [
    {
     "data": {
      "text/plain": [
       "movieId    0\n",
       "title      0\n",
       "genres     0\n",
       "dtype: int64"
      ]
     },
     "execution_count": 76,
     "metadata": {},
     "output_type": "execute_result"
    }
   ],
   "source": [
    "#missing values in movie title df\n",
    "movie_titles.isnull().sum()"
   ]
  },
  {
   "cell_type": "markdown",
   "id": "950291ab",
   "metadata": {},
   "source": [
    "This dataset as well does not have any missing values.\n",
    "\n",
    "### Checking for duplicates\n",
    "The dataset may as well contain duplicates hence this step is necessary."
   ]
  },
  {
   "cell_type": "code",
   "execution_count": 77,
   "id": "1993d3b2",
   "metadata": {},
   "outputs": [
    {
     "data": {
      "text/plain": [
       "False    100836\n",
       "Name: count, dtype: int64"
      ]
     },
     "execution_count": 77,
     "metadata": {},
     "output_type": "execute_result"
    }
   ],
   "source": [
    "#checking for duplicates in user rating dataframe\n",
    "user_rating.duplicated().value_counts()"
   ]
  },
  {
   "cell_type": "markdown",
   "id": "914cf557",
   "metadata": {},
   "source": [
    "The user ratings columns doesn't have any duplicates. That's good. I now check for duplicates in the movie titles dataframe."
   ]
  },
  {
   "cell_type": "code",
   "execution_count": 78,
   "id": "1fd7ac1d",
   "metadata": {},
   "outputs": [
    {
     "data": {
      "text/plain": [
       "False    9742\n",
       "Name: count, dtype: int64"
      ]
     },
     "execution_count": 78,
     "metadata": {},
     "output_type": "execute_result"
    }
   ],
   "source": [
    "#checking for duplicates\n",
    "movie_titles.duplicated().value_counts()"
   ]
  },
  {
   "cell_type": "markdown",
   "id": "3ab17931",
   "metadata": {},
   "source": [
    "This dataset as well doesn't have any duplicates."
   ]
  },
  {
   "cell_type": "markdown",
   "id": "bf68403c",
   "metadata": {},
   "source": [
    "### Transforming user ratings dataframe to Surprise"
   ]
  },
  {
   "cell_type": "markdown",
   "id": "975ee789",
   "metadata": {},
   "source": [
    "It's now time to transform the dataset into something compatible with `surprise`. In order to do this, I am going to use `Reader` and `Dataset` classes."
   ]
  },
  {
   "cell_type": "code",
   "execution_count": 79,
   "id": "d7ff2fd8",
   "metadata": {},
   "outputs": [],
   "source": [
    "# reading in values as Surprise Dataset\n",
    "reader = Reader()\n",
    "data = Dataset.load_from_df(user_rating[['userId', 'movieId', 'rating']], reader)"
   ]
  },
  {
   "cell_type": "markdown",
   "id": "17a6965e",
   "metadata": {},
   "source": [
    "Splitting the dataset into trainset and testset."
   ]
  },
  {
   "cell_type": "code",
   "execution_count": 80,
   "id": "06824e40",
   "metadata": {},
   "outputs": [
    {
     "name": "stdout",
     "output_type": "stream",
     "text": [
      "Number of users:  610 \n",
      "\n",
      "Number of items:  8964\n"
     ]
    }
   ],
   "source": [
    "trainset, testset = train_test_split(data, test_size=0.2)\n",
    "\n",
    "#number of users and items in trainset\n",
    "print('Number of users: ', trainset.n_users, '\\n')\n",
    "print('Number of items: ', trainset.n_items)"
   ]
  },
  {
   "cell_type": "markdown",
   "id": "b1706c25",
   "metadata": {},
   "source": [
    "Calling the data, we can see that it is indeed a surprise dataset."
   ]
  },
  {
   "cell_type": "code",
   "execution_count": 81,
   "id": "49205271",
   "metadata": {},
   "outputs": [
    {
     "data": {
      "text/plain": [
       "<surprise.dataset.DatasetAutoFolds at 0x19a0ece1300>"
      ]
     },
     "execution_count": 81,
     "metadata": {},
     "output_type": "execute_result"
    }
   ],
   "source": [
    "data"
   ]
  },
  {
   "cell_type": "markdown",
   "id": "87d35f5b",
   "metadata": {},
   "source": [
    "### User Profiling\n",
    "Before beginning modeling, I added this extra step as one of the goals of this project to sample a random user and preview what movie genres they like. This is the user I will be making 5 recommendations for. I will want to see if the model makes accurate predictions on the movies this user may like based on their genres.\n",
    "\n",
    "#### Sampling a random user"
   ]
  },
  {
   "cell_type": "code",
   "execution_count": 82,
   "id": "f5b76e3d",
   "metadata": {},
   "outputs": [
    {
     "data": {
      "text/html": [
       "<div>\n",
       "<style scoped>\n",
       "    .dataframe tbody tr th:only-of-type {\n",
       "        vertical-align: middle;\n",
       "    }\n",
       "\n",
       "    .dataframe tbody tr th {\n",
       "        vertical-align: top;\n",
       "    }\n",
       "\n",
       "    .dataframe thead th {\n",
       "        text-align: right;\n",
       "    }\n",
       "</style>\n",
       "<table border=\"1\" class=\"dataframe\">\n",
       "  <thead>\n",
       "    <tr style=\"text-align: right;\">\n",
       "      <th></th>\n",
       "      <th>userId</th>\n",
       "      <th>movieId</th>\n",
       "      <th>rating</th>\n",
       "    </tr>\n",
       "  </thead>\n",
       "  <tbody>\n",
       "    <tr>\n",
       "      <th>68102</th>\n",
       "      <td>438</td>\n",
       "      <td>7444</td>\n",
       "      <td>3.0</td>\n",
       "    </tr>\n",
       "  </tbody>\n",
       "</table>\n",
       "</div>"
      ],
      "text/plain": [
       "       userId  movieId  rating\n",
       "68102     438     7444     3.0"
      ]
     },
     "execution_count": 82,
     "metadata": {},
     "output_type": "execute_result"
    }
   ],
   "source": [
    "#setting random seed for reproducibility\n",
    "np.random.seed(54)\n",
    "user_rating.sample(1)"
   ]
  },
  {
   "cell_type": "code",
   "execution_count": 83,
   "id": "c5a183be",
   "metadata": {},
   "outputs": [],
   "source": [
    "#storing this user id\n",
    "user = 438"
   ]
  },
  {
   "cell_type": "markdown",
   "id": "1344b554",
   "metadata": {},
   "source": [
    "#### Identifying the highly rated movies based on genre\n",
    "To do this, I will join the movie title dataframe on the user ratings dataset specifically for `user 438` focussing mostly on the genre."
   ]
  },
  {
   "cell_type": "code",
   "execution_count": 84,
   "id": "6060e5d7",
   "metadata": {},
   "outputs": [
    {
     "data": {
      "text/html": [
       "<div>\n",
       "<style scoped>\n",
       "    .dataframe tbody tr th:only-of-type {\n",
       "        vertical-align: middle;\n",
       "    }\n",
       "\n",
       "    .dataframe tbody tr th {\n",
       "        vertical-align: top;\n",
       "    }\n",
       "\n",
       "    .dataframe thead th {\n",
       "        text-align: right;\n",
       "    }\n",
       "</style>\n",
       "<table border=\"1\" class=\"dataframe\">\n",
       "  <thead>\n",
       "    <tr style=\"text-align: right;\">\n",
       "      <th></th>\n",
       "      <th>userId</th>\n",
       "      <th>movieId</th>\n",
       "      <th>rating</th>\n",
       "    </tr>\n",
       "  </thead>\n",
       "  <tbody>\n",
       "    <tr>\n",
       "      <th>67583</th>\n",
       "      <td>438</td>\n",
       "      <td>1</td>\n",
       "      <td>4.5</td>\n",
       "    </tr>\n",
       "    <tr>\n",
       "      <th>67584</th>\n",
       "      <td>438</td>\n",
       "      <td>6</td>\n",
       "      <td>5.0</td>\n",
       "    </tr>\n",
       "    <tr>\n",
       "      <th>67585</th>\n",
       "      <td>438</td>\n",
       "      <td>10</td>\n",
       "      <td>4.0</td>\n",
       "    </tr>\n",
       "    <tr>\n",
       "      <th>67586</th>\n",
       "      <td>438</td>\n",
       "      <td>11</td>\n",
       "      <td>4.0</td>\n",
       "    </tr>\n",
       "    <tr>\n",
       "      <th>67587</th>\n",
       "      <td>438</td>\n",
       "      <td>19</td>\n",
       "      <td>3.0</td>\n",
       "    </tr>\n",
       "    <tr>\n",
       "      <th>...</th>\n",
       "      <td>...</td>\n",
       "      <td>...</td>\n",
       "      <td>...</td>\n",
       "    </tr>\n",
       "    <tr>\n",
       "      <th>68213</th>\n",
       "      <td>438</td>\n",
       "      <td>48516</td>\n",
       "      <td>4.5</td>\n",
       "    </tr>\n",
       "    <tr>\n",
       "      <th>68214</th>\n",
       "      <td>438</td>\n",
       "      <td>48774</td>\n",
       "      <td>3.0</td>\n",
       "    </tr>\n",
       "    <tr>\n",
       "      <th>68215</th>\n",
       "      <td>438</td>\n",
       "      <td>48780</td>\n",
       "      <td>4.0</td>\n",
       "    </tr>\n",
       "    <tr>\n",
       "      <th>68216</th>\n",
       "      <td>438</td>\n",
       "      <td>49272</td>\n",
       "      <td>4.0</td>\n",
       "    </tr>\n",
       "    <tr>\n",
       "      <th>68217</th>\n",
       "      <td>438</td>\n",
       "      <td>51662</td>\n",
       "      <td>5.0</td>\n",
       "    </tr>\n",
       "  </tbody>\n",
       "</table>\n",
       "<p>635 rows × 3 columns</p>\n",
       "</div>"
      ],
      "text/plain": [
       "       userId  movieId  rating\n",
       "67583     438        1     4.5\n",
       "67584     438        6     5.0\n",
       "67585     438       10     4.0\n",
       "67586     438       11     4.0\n",
       "67587     438       19     3.0\n",
       "...       ...      ...     ...\n",
       "68213     438    48516     4.5\n",
       "68214     438    48774     3.0\n",
       "68215     438    48780     4.0\n",
       "68216     438    49272     4.0\n",
       "68217     438    51662     5.0\n",
       "\n",
       "[635 rows x 3 columns]"
      ]
     },
     "execution_count": 84,
     "metadata": {},
     "output_type": "execute_result"
    }
   ],
   "source": [
    "#creating dataframe for user 438 only\n",
    "user438 = user_rating.loc[user_rating['userId'] == user]\n",
    "user438"
   ]
  },
  {
   "cell_type": "markdown",
   "id": "3552d32a",
   "metadata": {},
   "source": [
    "This user has rated 635 movie titles. Now let me do the join."
   ]
  },
  {
   "cell_type": "code",
   "execution_count": 85,
   "id": "8c2dbcca",
   "metadata": {},
   "outputs": [
    {
     "data": {
      "text/html": [
       "<div>\n",
       "<style scoped>\n",
       "    .dataframe tbody tr th:only-of-type {\n",
       "        vertical-align: middle;\n",
       "    }\n",
       "\n",
       "    .dataframe tbody tr th {\n",
       "        vertical-align: top;\n",
       "    }\n",
       "\n",
       "    .dataframe thead th {\n",
       "        text-align: right;\n",
       "    }\n",
       "</style>\n",
       "<table border=\"1\" class=\"dataframe\">\n",
       "  <thead>\n",
       "    <tr style=\"text-align: right;\">\n",
       "      <th></th>\n",
       "      <th>userId</th>\n",
       "      <th>movieId</th>\n",
       "      <th>rating</th>\n",
       "      <th>title</th>\n",
       "      <th>genres</th>\n",
       "    </tr>\n",
       "  </thead>\n",
       "  <tbody>\n",
       "    <tr>\n",
       "      <th>0</th>\n",
       "      <td>438</td>\n",
       "      <td>1</td>\n",
       "      <td>4.5</td>\n",
       "      <td>Toy Story (1995)</td>\n",
       "      <td>Adventure|Animation|Children|Comedy|Fantasy</td>\n",
       "    </tr>\n",
       "    <tr>\n",
       "      <th>1</th>\n",
       "      <td>438</td>\n",
       "      <td>6</td>\n",
       "      <td>5.0</td>\n",
       "      <td>Heat (1995)</td>\n",
       "      <td>Action|Crime|Thriller</td>\n",
       "    </tr>\n",
       "    <tr>\n",
       "      <th>2</th>\n",
       "      <td>438</td>\n",
       "      <td>10</td>\n",
       "      <td>4.0</td>\n",
       "      <td>GoldenEye (1995)</td>\n",
       "      <td>Action|Adventure|Thriller</td>\n",
       "    </tr>\n",
       "    <tr>\n",
       "      <th>3</th>\n",
       "      <td>438</td>\n",
       "      <td>11</td>\n",
       "      <td>4.0</td>\n",
       "      <td>American President, The (1995)</td>\n",
       "      <td>Comedy|Drama|Romance</td>\n",
       "    </tr>\n",
       "    <tr>\n",
       "      <th>4</th>\n",
       "      <td>438</td>\n",
       "      <td>19</td>\n",
       "      <td>3.0</td>\n",
       "      <td>Ace Ventura: When Nature Calls (1995)</td>\n",
       "      <td>Comedy</td>\n",
       "    </tr>\n",
       "    <tr>\n",
       "      <th>...</th>\n",
       "      <td>...</td>\n",
       "      <td>...</td>\n",
       "      <td>...</td>\n",
       "      <td>...</td>\n",
       "      <td>...</td>\n",
       "    </tr>\n",
       "    <tr>\n",
       "      <th>630</th>\n",
       "      <td>438</td>\n",
       "      <td>48516</td>\n",
       "      <td>4.5</td>\n",
       "      <td>Departed, The (2006)</td>\n",
       "      <td>Crime|Drama|Thriller</td>\n",
       "    </tr>\n",
       "    <tr>\n",
       "      <th>631</th>\n",
       "      <td>438</td>\n",
       "      <td>48774</td>\n",
       "      <td>3.0</td>\n",
       "      <td>Children of Men (2006)</td>\n",
       "      <td>Action|Adventure|Drama|Sci-Fi|Thriller</td>\n",
       "    </tr>\n",
       "    <tr>\n",
       "      <th>632</th>\n",
       "      <td>438</td>\n",
       "      <td>48780</td>\n",
       "      <td>4.0</td>\n",
       "      <td>Prestige, The (2006)</td>\n",
       "      <td>Drama|Mystery|Sci-Fi|Thriller</td>\n",
       "    </tr>\n",
       "    <tr>\n",
       "      <th>633</th>\n",
       "      <td>438</td>\n",
       "      <td>49272</td>\n",
       "      <td>4.0</td>\n",
       "      <td>Casino Royale (2006)</td>\n",
       "      <td>Action|Adventure|Thriller</td>\n",
       "    </tr>\n",
       "    <tr>\n",
       "      <th>634</th>\n",
       "      <td>438</td>\n",
       "      <td>51662</td>\n",
       "      <td>5.0</td>\n",
       "      <td>300 (2007)</td>\n",
       "      <td>Action|Fantasy|War|IMAX</td>\n",
       "    </tr>\n",
       "  </tbody>\n",
       "</table>\n",
       "<p>635 rows × 5 columns</p>\n",
       "</div>"
      ],
      "text/plain": [
       "     userId  movieId  rating                                  title  \\\n",
       "0       438        1     4.5                       Toy Story (1995)   \n",
       "1       438        6     5.0                            Heat (1995)   \n",
       "2       438       10     4.0                       GoldenEye (1995)   \n",
       "3       438       11     4.0         American President, The (1995)   \n",
       "4       438       19     3.0  Ace Ventura: When Nature Calls (1995)   \n",
       "..      ...      ...     ...                                    ...   \n",
       "630     438    48516     4.5                   Departed, The (2006)   \n",
       "631     438    48774     3.0                 Children of Men (2006)   \n",
       "632     438    48780     4.0                   Prestige, The (2006)   \n",
       "633     438    49272     4.0                   Casino Royale (2006)   \n",
       "634     438    51662     5.0                             300 (2007)   \n",
       "\n",
       "                                          genres  \n",
       "0    Adventure|Animation|Children|Comedy|Fantasy  \n",
       "1                          Action|Crime|Thriller  \n",
       "2                      Action|Adventure|Thriller  \n",
       "3                           Comedy|Drama|Romance  \n",
       "4                                         Comedy  \n",
       "..                                           ...  \n",
       "630                         Crime|Drama|Thriller  \n",
       "631       Action|Adventure|Drama|Sci-Fi|Thriller  \n",
       "632                Drama|Mystery|Sci-Fi|Thriller  \n",
       "633                    Action|Adventure|Thriller  \n",
       "634                      Action|Fantasy|War|IMAX  \n",
       "\n",
       "[635 rows x 5 columns]"
      ]
     },
     "execution_count": 85,
     "metadata": {},
     "output_type": "execute_result"
    }
   ],
   "source": [
    "# Merge user438s with movie titles\n",
    "user438_movie_ratings = pd.merge(user438, movie_titles, on='movieId')\n",
    "user438_movie_ratings"
   ]
  },
  {
   "cell_type": "markdown",
   "id": "68ea633f",
   "metadata": {},
   "source": [
    "#### Plotting highly rated genres for user 438"
   ]
  },
  {
   "cell_type": "code",
   "execution_count": 86,
   "id": "7f1111eb",
   "metadata": {},
   "outputs": [
    {
     "data": {
      "text/html": [
       "<div>\n",
       "<style scoped>\n",
       "    .dataframe tbody tr th:only-of-type {\n",
       "        vertical-align: middle;\n",
       "    }\n",
       "\n",
       "    .dataframe tbody tr th {\n",
       "        vertical-align: top;\n",
       "    }\n",
       "\n",
       "    .dataframe thead th {\n",
       "        text-align: right;\n",
       "    }\n",
       "</style>\n",
       "<table border=\"1\" class=\"dataframe\">\n",
       "  <thead>\n",
       "    <tr style=\"text-align: right;\">\n",
       "      <th></th>\n",
       "      <th>userId</th>\n",
       "      <th>movieId</th>\n",
       "      <th>rating</th>\n",
       "      <th>title</th>\n",
       "      <th>genres</th>\n",
       "    </tr>\n",
       "  </thead>\n",
       "  <tbody>\n",
       "    <tr>\n",
       "      <th>634</th>\n",
       "      <td>438</td>\n",
       "      <td>51662</td>\n",
       "      <td>5.0</td>\n",
       "      <td>300 (2007)</td>\n",
       "      <td>Action|Fantasy|War|IMAX</td>\n",
       "    </tr>\n",
       "    <tr>\n",
       "      <th>493</th>\n",
       "      <td>438</td>\n",
       "      <td>7090</td>\n",
       "      <td>5.0</td>\n",
       "      <td>Hero (Ying xiong) (2002)</td>\n",
       "      <td>Action|Adventure|Drama</td>\n",
       "    </tr>\n",
       "    <tr>\n",
       "      <th>462</th>\n",
       "      <td>438</td>\n",
       "      <td>6539</td>\n",
       "      <td>5.0</td>\n",
       "      <td>Pirates of the Caribbean: The Curse of the Bla...</td>\n",
       "      <td>Action|Adventure|Comedy|Fantasy</td>\n",
       "    </tr>\n",
       "    <tr>\n",
       "      <th>426</th>\n",
       "      <td>438</td>\n",
       "      <td>5903</td>\n",
       "      <td>5.0</td>\n",
       "      <td>Equilibrium (2002)</td>\n",
       "      <td>Action|Sci-Fi|Thriller</td>\n",
       "    </tr>\n",
       "    <tr>\n",
       "      <th>69</th>\n",
       "      <td>438</td>\n",
       "      <td>589</td>\n",
       "      <td>5.0</td>\n",
       "      <td>Terminator 2: Judgment Day (1991)</td>\n",
       "      <td>Action|Sci-Fi</td>\n",
       "    </tr>\n",
       "    <tr>\n",
       "      <th>34</th>\n",
       "      <td>438</td>\n",
       "      <td>260</td>\n",
       "      <td>5.0</td>\n",
       "      <td>Star Wars: Episode IV - A New Hope (1977)</td>\n",
       "      <td>Action|Adventure|Sci-Fi</td>\n",
       "    </tr>\n",
       "    <tr>\n",
       "      <th>1</th>\n",
       "      <td>438</td>\n",
       "      <td>6</td>\n",
       "      <td>5.0</td>\n",
       "      <td>Heat (1995)</td>\n",
       "      <td>Action|Crime|Thriller</td>\n",
       "    </tr>\n",
       "    <tr>\n",
       "      <th>39</th>\n",
       "      <td>438</td>\n",
       "      <td>318</td>\n",
       "      <td>5.0</td>\n",
       "      <td>Shawshank Redemption, The (1994)</td>\n",
       "      <td>Crime|Drama</td>\n",
       "    </tr>\n",
       "    <tr>\n",
       "      <th>289</th>\n",
       "      <td>438</td>\n",
       "      <td>3996</td>\n",
       "      <td>5.0</td>\n",
       "      <td>Crouching Tiger, Hidden Dragon (Wo hu cang lon...</td>\n",
       "      <td>Action|Drama|Romance</td>\n",
       "    </tr>\n",
       "    <tr>\n",
       "      <th>253</th>\n",
       "      <td>438</td>\n",
       "      <td>3578</td>\n",
       "      <td>5.0</td>\n",
       "      <td>Gladiator (2000)</td>\n",
       "      <td>Action|Adventure|Drama</td>\n",
       "    </tr>\n",
       "  </tbody>\n",
       "</table>\n",
       "</div>"
      ],
      "text/plain": [
       "     userId  movieId  rating  \\\n",
       "634     438    51662     5.0   \n",
       "493     438     7090     5.0   \n",
       "462     438     6539     5.0   \n",
       "426     438     5903     5.0   \n",
       "69      438      589     5.0   \n",
       "34      438      260     5.0   \n",
       "1       438        6     5.0   \n",
       "39      438      318     5.0   \n",
       "289     438     3996     5.0   \n",
       "253     438     3578     5.0   \n",
       "\n",
       "                                                 title  \\\n",
       "634                                         300 (2007)   \n",
       "493                           Hero (Ying xiong) (2002)   \n",
       "462  Pirates of the Caribbean: The Curse of the Bla...   \n",
       "426                                 Equilibrium (2002)   \n",
       "69                   Terminator 2: Judgment Day (1991)   \n",
       "34           Star Wars: Episode IV - A New Hope (1977)   \n",
       "1                                          Heat (1995)   \n",
       "39                    Shawshank Redemption, The (1994)   \n",
       "289  Crouching Tiger, Hidden Dragon (Wo hu cang lon...   \n",
       "253                                   Gladiator (2000)   \n",
       "\n",
       "                              genres  \n",
       "634          Action|Fantasy|War|IMAX  \n",
       "493           Action|Adventure|Drama  \n",
       "462  Action|Adventure|Comedy|Fantasy  \n",
       "426           Action|Sci-Fi|Thriller  \n",
       "69                     Action|Sci-Fi  \n",
       "34           Action|Adventure|Sci-Fi  \n",
       "1              Action|Crime|Thriller  \n",
       "39                       Crime|Drama  \n",
       "289             Action|Drama|Romance  \n",
       "253           Action|Adventure|Drama  "
      ]
     },
     "execution_count": 86,
     "metadata": {},
     "output_type": "execute_result"
    }
   ],
   "source": [
    "#user438 ten highest rated genres \n",
    "user438_ratings = user438_movie_ratings.sort_values(by = 'rating', ascending = False).head(10)\n",
    "user438_ratings"
   ]
  },
  {
   "cell_type": "code",
   "execution_count": 87,
   "id": "aa61fda2",
   "metadata": {},
   "outputs": [
    {
     "data": {
      "image/png": "[encoded data removed]",
      "text/plain": [
       "<Figure size 1500x500 with 1 Axes>"
      ]
     },
     "metadata": {},
     "output_type": "display_data"
    }
   ],
   "source": [
    "#plotting bar plot\n",
    "plt.figure(figsize = (15,5))\n",
    "plt.bar(user438_ratings['genres'], user438_ratings['rating'], color = 'grey')\n",
    "plt.xticks(rotation = 45);"
   ]
  },
  {
   "cell_type": "markdown",
   "id": "1c03c6e5",
   "metadata": {},
   "source": [
    "From the plot above, these are the highly rated genres for `user 438`."
   ]
  },
  {
   "cell_type": "markdown",
   "id": "cc664ced",
   "metadata": {},
   "source": [
    "## Modeling"
   ]
  },
  {
   "cell_type": "markdown",
   "id": "a6ba1465",
   "metadata": {},
   "source": [
    "### Baseline Model\n",
    "In this project, I'll use Singular Value Decomposition (SVD), a matrix factorization technique, to build the recommendation system. I'll start with a baseline model, assess it's performance, and then tune the model with grid search to obtain the best parameters."
   ]
  },
  {
   "cell_type": "code",
   "execution_count": 88,
   "id": "3f0b58d0",
   "metadata": {},
   "outputs": [],
   "source": [
    "#initialising baseline model with default parameters\n",
    "baseline = SVD()"
   ]
  },
  {
   "cell_type": "markdown",
   "id": "57ba2c3a",
   "metadata": {},
   "source": [
    "Fitting the model on my trainset."
   ]
  },
  {
   "cell_type": "code",
   "execution_count": 89,
   "id": "f829154f",
   "metadata": {},
   "outputs": [
    {
     "data": {
      "text/plain": [
       "<surprise.prediction_algorithms.matrix_factorization.SVD at 0x19a0d59f4c0>"
      ]
     },
     "execution_count": 89,
     "metadata": {},
     "output_type": "execute_result"
    }
   ],
   "source": [
    "baseline.fit(trainset)"
   ]
  },
  {
   "cell_type": "markdown",
   "id": "457d75af",
   "metadata": {},
   "source": [
    "Obtaining predictions for both the trainset and test set to assess the rmse scores."
   ]
  },
  {
   "cell_type": "code",
   "execution_count": 90,
   "id": "4ec274ab",
   "metadata": {},
   "outputs": [],
   "source": [
    "#predictions\n",
    "preds = baseline.test(testset)"
   ]
  },
  {
   "cell_type": "markdown",
   "id": "e505d5d2",
   "metadata": {},
   "source": [
    "#### Evaluating the model's accuracy using RMSE."
   ]
  },
  {
   "cell_type": "code",
   "execution_count": 91,
   "id": "26d12906",
   "metadata": {},
   "outputs": [
    {
     "name": "stdout",
     "output_type": "stream",
     "text": [
      "RMSE: 0.8699\n"
     ]
    },
    {
     "data": {
      "text/plain": [
       "0.8698845248707412"
      ]
     },
     "execution_count": 91,
     "metadata": {},
     "output_type": "execute_result"
    }
   ],
   "source": [
    "#rmse score\n",
    "base_rmse = rmse(preds)\n",
    "base_rmse"
   ]
  },
  {
   "cell_type": "markdown",
   "id": "fc4fceed",
   "metadata": {},
   "source": [
    "Performing a cross validation using 5 k-folds."
   ]
  },
  {
   "cell_type": "code",
   "execution_count": 92,
   "id": "457d9c3c",
   "metadata": {},
   "outputs": [
    {
     "name": "stdout",
     "output_type": "stream",
     "text": [
      "Evaluating RMSE of algorithm SVD on 5 split(s).\n",
      "\n",
      "                  Fold 1  Fold 2  Fold 3  Fold 4  Fold 5  Mean    Std     \n",
      "RMSE (testset)    0.8798  0.8738  0.8669  0.8734  0.8741  0.8736  0.0041  \n",
      "Fit time          1.43    1.38    1.52    1.32    1.31    1.39    0.08    \n",
      "Test time         0.14    0.16    0.14    0.15    0.13    0.14    0.01    \n"
     ]
    }
   ],
   "source": [
    "cv_results = cross_validate(baseline, data, measures=['RMSE'], cv=5, verbose=True)"
   ]
  },
  {
   "cell_type": "code",
   "execution_count": 93,
   "id": "22c34973",
   "metadata": {},
   "outputs": [
    {
     "name": "stdout",
     "output_type": "stream",
     "text": [
      "test_rmse =  87.35719000548505 %\n"
     ]
    }
   ],
   "source": [
    "# printing out the average RMSE score for the test set\n",
    "print('test_rmse = ', cv_results['test_rmse'].mean()*100,'%')"
   ]
  },
  {
   "cell_type": "markdown",
   "id": "122b6038",
   "metadata": {},
   "source": [
    "From the RMSE score above, the model was able to predict accurately about 87% of the movie ratings for each user. \n",
    "Now tuning the model using gridsearch:"
   ]
  },
  {
   "cell_type": "markdown",
   "id": "68f10253",
   "metadata": {},
   "source": [
    "### Determining the best parameters with Grid Search"
   ]
  },
  {
   "cell_type": "code",
   "execution_count": 94,
   "id": "aedd1900",
   "metadata": {},
   "outputs": [
    {
     "name": "stderr",
     "output_type": "stream",
     "text": [
      "[Parallel(n_jobs=-1)]: Using backend LokyBackend with 8 concurrent workers.\n",
      "[Parallel(n_jobs=-1)]: Done   2 tasks      | elapsed:    1.6s\n",
      "[Parallel(n_jobs=-1)]: Done  56 tasks      | elapsed:    9.0s\n",
      "[Parallel(n_jobs=-1)]: Done 135 out of 135 | elapsed:   28.7s finished\n"
     ]
    }
   ],
   "source": [
    "#the parameter grid\n",
    "param_grid = {'n_factors':[50,100,200],\n",
    "              'reg_all': [0.005,0.05,0.5],\n",
    "             'lr_all': [0.002, 0.005, 0.01]}\n",
    "\n",
    "#iimporting SVD class again\n",
    "from surprise.prediction_algorithms import SVD\n",
    "\n",
    "#initialising grid search\n",
    "gridsearch = GridSearchCV(SVD,param_grid, n_jobs = -1, joblib_verbose= 5)\n",
    "gridsearch.fit(data)"
   ]
  },
  {
   "cell_type": "code",
   "execution_count": 95,
   "id": "b1d071a4",
   "metadata": {},
   "outputs": [
    {
     "data": {
      "text/plain": [
       "{'rmse': {'n_factors': 200, 'reg_all': 0.05, 'lr_all': 0.01},\n",
       " 'mae': {'n_factors': 200, 'reg_all': 0.05, 'lr_all': 0.01}}"
      ]
     },
     "execution_count": 95,
     "metadata": {},
     "output_type": "execute_result"
    }
   ],
   "source": [
    "#obtaining the best parameters\n",
    "gridsearch.best_params"
   ]
  },
  {
   "cell_type": "markdown",
   "id": "779584b2",
   "metadata": {},
   "source": [
    "From the grid search above, the best parameters are `'n_factors': 200, 'reg_all': 0.05, 'lr_all': 0.01`"
   ]
  },
  {
   "cell_type": "markdown",
   "id": "245a1aed",
   "metadata": {},
   "source": [
    "### Building the Final Model\n",
    "For the final model I will use these best parameters to build a more accurate model."
   ]
  },
  {
   "cell_type": "code",
   "execution_count": 96,
   "id": "1497dd89",
   "metadata": {},
   "outputs": [],
   "source": [
    "#initialising final model with best params\n",
    "final_model = SVD(n_factors= 200, reg_all= 0.005, lr_all= 0.01)"
   ]
  },
  {
   "cell_type": "markdown",
   "id": "6bdda982",
   "metadata": {},
   "source": [
    "Fitting the final model on the trainset"
   ]
  },
  {
   "cell_type": "code",
   "execution_count": 97,
   "id": "ddc2c91c",
   "metadata": {},
   "outputs": [
    {
     "data": {
      "text/plain": [
       "<surprise.prediction_algorithms.matrix_factorization.SVD at 0x19a0f31e6b0>"
      ]
     },
     "execution_count": 97,
     "metadata": {},
     "output_type": "execute_result"
    }
   ],
   "source": [
    "final_model.fit(trainset)"
   ]
  },
  {
   "cell_type": "markdown",
   "id": "f0bfce1b",
   "metadata": {},
   "source": [
    "#### Evaluating the model performance using RMSE"
   ]
  },
  {
   "cell_type": "code",
   "execution_count": 98,
   "id": "ea10c895",
   "metadata": {},
   "outputs": [
    {
     "name": "stdout",
     "output_type": "stream",
     "text": [
      "Evaluating RMSE of algorithm SVD on 5 split(s).\n",
      "\n",
      "                  Fold 1  Fold 2  Fold 3  Fold 4  Fold 5  Mean    Std     \n",
      "RMSE (testset)    0.9069  0.9165  0.9104  0.9060  0.9086  0.9097  0.0037  \n",
      "Fit time          2.13    2.27    2.06    1.93    2.17    2.11    0.11    \n",
      "Test time         0.23    0.11    0.14    0.19    0.11    0.15    0.05    \n",
      "test_rmse =  90.9683058378848 %\n"
     ]
    }
   ],
   "source": [
    "#using 5 kfold cross validation\n",
    "cv_results = cross_validate(final_model, data, measures=['RMSE'], cv=5, verbose=True)['test_rmse']\n",
    "print('test_rmse = ', cv_results.mean()*100,'%')"
   ]
  },
  {
   "cell_type": "markdown",
   "id": "1a8c8fdd",
   "metadata": {},
   "source": [
    "From the results above, this model is 91% accurate. It has performed way better than the baseline model which was 87% accurate. "
   ]
  },
  {
   "cell_type": "markdown",
   "id": "a547c10e",
   "metadata": {},
   "source": [
    "### Making recommendations:\n",
    "Remember we sampled `user438`. Now let me make predictions for this user's ratings on unwatched movies and make recommendations based on movies with the highest rating. "
   ]
  },
  {
   "cell_type": "code",
   "execution_count": 99,
   "id": "9a2788d7",
   "metadata": {},
   "outputs": [
    {
     "data": {
      "text/plain": [
       "438"
      ]
     },
     "execution_count": 99,
     "metadata": {},
     "output_type": "execute_result"
    }
   ],
   "source": [
    "#user id\n",
    "user"
   ]
  },
  {
   "cell_type": "code",
   "execution_count": 100,
   "id": "80d3f5c8",
   "metadata": {},
   "outputs": [
    {
     "data": {
      "text/plain": [
       "[(1, 4.236543213143166),\n",
       " (2, 2.9127872809000745),\n",
       " (3, 3.712317089509277),\n",
       " (4, 2.5846459694632795),\n",
       " (5, 3.070851010644492),\n",
       " (6, 5),\n",
       " (7, 3.1278451300465377),\n",
       " (8, 2.9342617474221755),\n",
       " (9, 2.726976862385494),\n",
       " (10, 4.06350344593533),\n",
       " (11, 3.9837634232169665),\n",
       " (12, 2.6090323384816396),\n",
       " (13, 3.234471696358982),\n",
       " (14, 3.548033169548046),\n",
       " (15, 3.5904118900534),\n",
       " (16, 3.7896706010476207),\n",
       " (17, 3.0261216978819534),\n",
       " (18, 2.9793739021578536),\n",
       " (19, 3.073075422097717),\n",
       " (20, 2.7139826868089507),\n",
       " (21, 3.2088154998097926),\n",
       " (22, 3.298601519949902),\n",
       " (23, 2.6862708323437587),\n",
       " (24, 3.1579730767988248),\n",
       " (25, 3.8149698819936897),\n",
       " (26, 3.7878786161731535),\n",
       " (27, 3.4073556702641823),\n",
       " (28, 3.881258747780761),\n",
       " (29, 4.12917862428418),\n",
       " (30, 3.109190159974683),\n",
       " (31, 2.462605730652347),\n",
       " (32, 3.663615421139861),\n",
       " (34, 3.279270574993538),\n",
       " (36, 3.821120344165872),\n",
       " (38, 3.3001190131322113),\n",
       " (39, 2.6161366872369167),\n",
       " (40, 3.648594087000742),\n",
       " (41, 2.7743255358365286),\n",
       " (42, 3.3689825736643852),\n",
       " (43, 3.1965888396095337),\n",
       " (44, 2.2955965231602633),\n",
       " (45, 4.097450553670989),\n",
       " (46, 3.3892114945899396),\n",
       " (47, 3.404589114125723),\n",
       " (48, 3.647248222440782),\n",
       " (49, 3.1656227750723147),\n",
       " (50, 3.977585243551434),\n",
       " (52, 3.335246930861431),\n",
       " (53, 3.608804488972804),\n",
       " (54, 2.439687504987808)]"
      ]
     },
     "execution_count": 100,
     "metadata": {},
     "output_type": "execute_result"
    }
   ],
   "source": [
    "#user438 ratings predictions\n",
    "user_id = user\n",
    "\n",
    "#creating a list for unrated movies\n",
    "unrated_movies_ids = [movie_id for movie_id in movie_titles.movieId if movie_id not in user_rating]\n",
    "\n",
    "#creating a list for predictions\n",
    "user_predictions = []\n",
    "\n",
    "#looping through all movie ids\n",
    "for movie_id in unrated_movies_ids:\n",
    "    predicted = final_model.predict(user_id, movie_id).est\n",
    "    \n",
    "    #appending the results to the list\n",
    "    user_predictions.append((movie_id, predicted))\n",
    "    \n",
    "#calling the prediction results and printing first 50 results   \n",
    "user_predictions[:50]"
   ]
  },
  {
   "cell_type": "markdown",
   "id": "b3f092d9",
   "metadata": {},
   "source": [
    "Ranking these predictions from highest to lowest."
   ]
  },
  {
   "cell_type": "code",
   "execution_count": 101,
   "id": "b287cff1",
   "metadata": {},
   "outputs": [
    {
     "data": {
      "text/plain": [
       "[(6, 5),\n",
       " (296, 5),\n",
       " (1287, 5),\n",
       " (2571, 5),\n",
       " (5903, 5),\n",
       " (119145, 5),\n",
       " (380, 4.929842012977505),\n",
       " (1196, 4.926199598759597),\n",
       " (1617, 4.922940628216866),\n",
       " (318, 4.895665306644848),\n",
       " (6539, 4.875789220433849),\n",
       " (46965, 4.845510474186365),\n",
       " (1036, 4.8357917744822005),\n",
       " (34338, 4.820552750362113),\n",
       " (4846, 4.818083683233736),\n",
       " (1210, 4.781331851927832),\n",
       " (6548, 4.775254940645512),\n",
       " (3996, 4.768874230444247),\n",
       " (260, 4.768458615101259),\n",
       " (6016, 4.758137929417606),\n",
       " (7090, 4.755091972934908),\n",
       " (1267, 4.744860725932552),\n",
       " (37830, 4.723247602868245),\n",
       " (589, 4.677221195565705),\n",
       " (3972, 4.67307640452351),\n",
       " (1213, 4.6571198209911495),\n",
       " (1193, 4.653034514750641),\n",
       " (110, 4.6453197778514905),\n",
       " (8961, 4.63665433544114),\n",
       " (858, 4.617567698985478),\n",
       " (71899, 4.611045471469935),\n",
       " (8949, 4.602270604991919),\n",
       " (33794, 4.585596905549105),\n",
       " (3578, 4.576247934364002),\n",
       " (1136, 4.571192708555063),\n",
       " (8636, 4.57079201189462),\n",
       " (527, 4.561061643207543),\n",
       " (1704, 4.5559859856015725),\n",
       " (2858, 4.551267140167493),\n",
       " (8368, 4.547664685817787),\n",
       " (5500, 4.546053537238066),\n",
       " (5418, 4.533841215554087),\n",
       " (953, 4.5338193486232345),\n",
       " (5218, 4.509694866349116),\n",
       " (377, 4.491516351174887),\n",
       " (7044, 4.489458859551125),\n",
       " (2716, 4.4832738164779995),\n",
       " (1198, 4.480644738940134),\n",
       " (79132, 4.476540614802256),\n",
       " (2058, 4.472121253896155)]"
      ]
     },
     "execution_count": 101,
     "metadata": {},
     "output_type": "execute_result"
    }
   ],
   "source": [
    "#sorting the predictions by the highest rated to lowest rated\n",
    "ranked_predictions = sorted(user_predictions, key = lambda x: x[1], reverse = True)\n",
    "\n",
    "#printing the top 50 rated movie ids\n",
    "ranked_predictions[:50]"
   ]
  },
  {
   "cell_type": "markdown",
   "id": "8898fdd2",
   "metadata": {},
   "source": [
    "### Creating a function to print out n recommended movie titles\n",
    "In this final step, I will define a function that will use the model predictions to recommend 5 movies to `user438`."
   ]
  },
  {
   "cell_type": "code",
   "execution_count": 102,
   "id": "6f7a4692",
   "metadata": {},
   "outputs": [],
   "source": [
    "def recommended_movies(user_predictions,movie_titles,n):\n",
    "    \n",
    "    ranked_df = pd.DataFrame(user_predictions, columns = ['movieId', 'rating'])  \n",
    "    \n",
    "    # Merging user ratings with movie titles\n",
    "    user_movie_ratings = pd.merge(ranked_df, movie_titles, on='movieId')\n",
    "    \n",
    "    # Sorting user's rated movies by their ratings in descending order (best to worst)\n",
    "    user_movie_ratings = user_movie_ratings.sort_values(by='rating', ascending=False)\n",
    "    \n",
    "    top_n_recommendations = user_movie_ratings.head(n)\n",
    "\n",
    "    #Printing the recommended movies\n",
    "    print(f\"Top {n} Recommended Movies:\")\n",
    "    for index, row in top_n_recommendations.iterrows():\n",
    "        print(f\"Movie ID: {row['movieId']}, Title: {row['title']}\")"
   ]
  },
  {
   "cell_type": "markdown",
   "id": "352f8d78",
   "metadata": {},
   "source": [
    "### Using the function above to make 5 recommendations:"
   ]
  },
  {
   "cell_type": "code",
   "execution_count": 103,
   "id": "4ca0817e",
   "metadata": {},
   "outputs": [
    {
     "name": "stdout",
     "output_type": "stream",
     "text": [
      "Top 5 Recommended Movies:\n",
      "Movie ID: 119145, Title: Kingsman: The Secret Service (2015)\n",
      "Movie ID: 2571, Title: Matrix, The (1999)\n",
      "Movie ID: 296, Title: Pulp Fiction (1994)\n",
      "Movie ID: 6, Title: Heat (1995)\n",
      "Movie ID: 5903, Title: Equilibrium (2002)\n"
     ]
    }
   ],
   "source": [
    "#calling the function\n",
    "recommended_movies(user_predictions,movie_titles,5)"
   ]
  },
  {
   "cell_type": "code",
   "execution_count": 107,
   "id": "7ec5d351",
   "metadata": {},
   "outputs": [
    {
     "data": {
      "text/html": [
       "<div>\n",
       "<style scoped>\n",
       "    .dataframe tbody tr th:only-of-type {\n",
       "        vertical-align: middle;\n",
       "    }\n",
       "\n",
       "    .dataframe tbody tr th {\n",
       "        vertical-align: top;\n",
       "    }\n",
       "\n",
       "    .dataframe thead th {\n",
       "        text-align: right;\n",
       "    }\n",
       "</style>\n",
       "<table border=\"1\" class=\"dataframe\">\n",
       "  <thead>\n",
       "    <tr style=\"text-align: right;\">\n",
       "      <th></th>\n",
       "      <th>movieId</th>\n",
       "      <th>title</th>\n",
       "      <th>genres</th>\n",
       "    </tr>\n",
       "  </thead>\n",
       "  <tbody>\n",
       "    <tr>\n",
       "      <th>5</th>\n",
       "      <td>6</td>\n",
       "      <td>Heat (1995)</td>\n",
       "      <td>Action|Crime|Thriller</td>\n",
       "    </tr>\n",
       "    <tr>\n",
       "      <th>257</th>\n",
       "      <td>296</td>\n",
       "      <td>Pulp Fiction (1994)</td>\n",
       "      <td>Comedy|Crime|Drama|Thriller</td>\n",
       "    </tr>\n",
       "    <tr>\n",
       "      <th>1939</th>\n",
       "      <td>2571</td>\n",
       "      <td>Matrix, The (1999)</td>\n",
       "      <td>Action|Sci-Fi|Thriller</td>\n",
       "    </tr>\n",
       "    <tr>\n",
       "      <th>4118</th>\n",
       "      <td>5903</td>\n",
       "      <td>Equilibrium (2002)</td>\n",
       "      <td>Action|Sci-Fi|Thriller</td>\n",
       "    </tr>\n",
       "    <tr>\n",
       "      <th>8636</th>\n",
       "      <td>119145</td>\n",
       "      <td>Kingsman: The Secret Service (2015)</td>\n",
       "      <td>Action|Adventure|Comedy|Crime</td>\n",
       "    </tr>\n",
       "  </tbody>\n",
       "</table>\n",
       "</div>"
      ],
      "text/plain": [
       "      movieId                                title  \\\n",
       "5           6                          Heat (1995)   \n",
       "257       296                  Pulp Fiction (1994)   \n",
       "1939     2571                   Matrix, The (1999)   \n",
       "4118     5903                   Equilibrium (2002)   \n",
       "8636   119145  Kingsman: The Secret Service (2015)   \n",
       "\n",
       "                             genres  \n",
       "5             Action|Crime|Thriller  \n",
       "257     Comedy|Crime|Drama|Thriller  \n",
       "1939         Action|Sci-Fi|Thriller  \n",
       "4118         Action|Sci-Fi|Thriller  \n",
       "8636  Action|Adventure|Comedy|Crime  "
      ]
     },
     "execution_count": 107,
     "metadata": {},
     "output_type": "execute_result"
    }
   ],
   "source": [
    "movie_titles.loc[(movie_titles['movieId'] == 119145) | (movie_titles['movieId'] == 2571) | (movie_titles['movieId'] == 296) | (movie_titles['movieId'] == 6) | (movie_titles['movieId'] == 5903)]"
   ]
  },
  {
   "cell_type": "markdown",
   "id": "28f3110b",
   "metadata": {},
   "source": [
    "From the recommendations, we can see that the genres for this user's recommendation are similar to those top 10 highly rated genres I had plotted before."
   ]
  },
  {
   "cell_type": "markdown",
   "id": "55db3a41",
   "metadata": {},
   "source": [
    "### Creating one function to summarize all the steps\n",
    "This function will provide 5 recommendations for any user given their user ID, movie titles available and the user's past movie ratings. In this function, I will implement again the SVD final model with the best parameters."
   ]
  },
  {
   "cell_type": "code",
   "execution_count": 109,
   "id": "4b711ca0",
   "metadata": {},
   "outputs": [],
   "source": [
    "def make_5_recommendations(userId, past_user_movie_ratings, movie_titles):\n",
    "\n",
    "    # reading in values as Surprise Dataset\n",
    "    reader = Reader()\n",
    "    data = Dataset.load_from_df(past_user_movie_ratings[['userId', 'movieId', 'rating']], reader)\n",
    "    \n",
    "    #creating dataframe for this user only\n",
    "    user = past_user_movie_ratings.loc[past_user_movie_ratings['userId'] == userId]\n",
    "    \n",
    "    # Merge user with movie titles\n",
    "    user_ratings = pd.merge(user, movie_titles, on='movieId')\n",
    "    \n",
    "    #creating a list for unrated movies\n",
    "    unrated_movies_ids = [movie_id for movie_id in movie_titles.movieId if movie_id not in user_ratings]\n",
    "\n",
    "    #creating a list for predictions\n",
    "    user_predictions = []\n",
    "\n",
    "    #looping through all movie ids\n",
    "    for movie_id in unrated_movies_ids:\n",
    "        predicted = final_model.predict(userId, movie_id).est\n",
    "    \n",
    "        #appending the results to the list\n",
    "        user_predictions.append((movie_id, predicted))\n",
    "        \n",
    "    #converting predictions to a dataframe\n",
    "    ranked_df = pd.DataFrame(user_predictions, columns = ['movieId', 'rating'])  \n",
    "    \n",
    "    # Merging user ratings with movie titles\n",
    "    user_movie_ratings = pd.merge(ranked_df, movie_titles, on='movieId')\n",
    "    \n",
    "    # Sorting user's rated movies by their ratings in descending order (best to worst)\n",
    "    user_movie_ratings = user_movie_ratings.sort_values(by='rating', ascending=False)\n",
    "    \n",
    "    top_n_recommendations = user_movie_ratings.head()\n",
    "\n",
    "    #Printing the recommended movies\n",
    "    print(f\"Top 5 Recommended Movies:\")\n",
    "    for index, row in top_n_recommendations.iterrows():\n",
    "        print(f\"Movie ID: {row['movieId']}, Title: {row['title']}\")"
   ]
  },
  {
   "cell_type": "markdown",
   "id": "cba61abe",
   "metadata": {},
   "source": [
    "Applying the function to user 438 to confirm if the top 5 recommendations are same as before:"
   ]
  },
  {
   "cell_type": "code",
   "execution_count": 110,
   "id": "5e44b819",
   "metadata": {},
   "outputs": [
    {
     "name": "stdout",
     "output_type": "stream",
     "text": [
      "Top 5 Recommended Movies:\n",
      "Movie ID: 119145, Title: Kingsman: The Secret Service (2015)\n",
      "Movie ID: 2571, Title: Matrix, The (1999)\n",
      "Movie ID: 296, Title: Pulp Fiction (1994)\n",
      "Movie ID: 6, Title: Heat (1995)\n",
      "Movie ID: 5903, Title: Equilibrium (2002)\n"
     ]
    }
   ],
   "source": [
    "#aplying the function\n",
    "make_5_recommendations(438, user_rating, movie_titles)"
   ]
  },
  {
   "cell_type": "markdown",
   "id": "99da0365",
   "metadata": {},
   "source": [
    "## Evaluation"
   ]
  },
  {
   "cell_type": "markdown",
   "id": "53525dc9",
   "metadata": {},
   "source": [
    "As before, here are the results on the model's accuracy in making recommendations."
   ]
  },
  {
   "cell_type": "code",
   "execution_count": 113,
   "id": "616230aa",
   "metadata": {},
   "outputs": [
    {
     "name": "stdout",
     "output_type": "stream",
     "text": [
      "Evaluating RMSE of algorithm SVD on 5 split(s).\n",
      "\n",
      "                  Fold 1  Fold 2  Fold 3  Fold 4  Fold 5  Mean    Std     \n",
      "RMSE (testset)    0.9123  0.9077  0.9072  0.9147  0.9121  0.9108  0.0029  \n",
      "Fit time          2.13    2.09    1.95    2.15    2.21    2.11    0.09    \n",
      "Test time         0.14    0.19    0.12    0.18    0.11    0.15    0.03    \n",
      "test_rmse =  91.08150091595304 %\n"
     ]
    }
   ],
   "source": [
    "#using 5 kfold cross validation\n",
    "cv_results = cross_validate(final_model, data, measures=['RMSE'], cv=5, verbose=True)['test_rmse']\n",
    "print('test_rmse = ', cv_results.mean()*100,'%')"
   ]
  },
  {
   "cell_type": "markdown",
   "id": "86c4c7b7",
   "metadata": {},
   "source": [
    "In my recommendation system, I've achieved a solid 91% accuracy, which means that it's doing a great job in suggesting movies that match users' preferences most of the time. This is a positive outcome."
   ]
  },
  {
   "cell_type": "markdown",
   "id": "c1c6a3d1",
   "metadata": {},
   "source": [
    "## Conclusion\n",
    "In this project, I have successfully developed a movie recommendation system that harnesses user ratings to suggest films. With a commendable 91% accuracy rate, the model is proficient at aligning user preferences with movie recommendations. This accuracy reflects the system's ability to assist users in discovering movies they're likely to enjoy, enhancing their overall movie-watching experience. Having a robust recommendation system plays an important role in both increasing user satisfaction and contributing to the overall success of movie platforms. A well-designed recommendation system can lead to a win-win scenario for users and the platform itself.\n",
    "\n",
    "A good recommendation system significantly enhances user satisfaction. It does this by tailoring movie suggestions to individual preferences, making it easier for users to discover content that is in line with their tastes. This personalization minimizes the time users spend searching for movies and maximizes their time enjoying content, leading to a more enjoyable and efficient movie-watching experience. When users consistently find movies they love through the platform, they are more likely to remain engaged and loyal, which in turn increases their overall satisfaction. This, in essence, transforms casual viewers into dedicated users, promoting long-term user retention and loyalty."
   ]
  },
  {
   "cell_type": "code",
   "execution_count": null,
   "id": "2c8c23ff",
   "metadata": {},
   "outputs": [],
   "source": []
  }
 ],
 "metadata": {
  "kernelspec": {
   "display_name": "Python (learn-env)",
   "language": "python",
   "name": "learn-env"
  },
  "language_info": {
   "codemirror_mode": {
    "name": "ipython",
    "version": 3
   },
   "file_extension": ".py",
   "mimetype": "text/x-python",
   "name": "python",
   "nbconvert_exporter": "python",
   "pygments_lexer": "ipython3",
   "version": "3.10.11"
  },
  "toc": {
   "base_numbering": 1,
   "nav_menu": {},
   "number_sections": true,
   "sideBar": true,
   "skip_h1_title": false,
   "title_cell": "Table of Contents",
   "title_sidebar": "Contents",
   "toc_cell": false,
   "toc_position": {},
   "toc_section_display": true,
   "toc_window_display": false
  }
 },
 "nbformat": 4,
 "nbformat_minor": 5
}
